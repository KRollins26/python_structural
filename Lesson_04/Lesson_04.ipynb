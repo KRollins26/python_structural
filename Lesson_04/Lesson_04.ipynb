{
 "cells": [
  {
   "cell_type": "markdown",
   "metadata": {},
   "source": [
    "# Lesson 4 - Algorithms? Yes, we can.\n",
    "\n",
    "In Lesson 3, we learned how to write `for` loops.\n",
    "\n",
    "In Lesson 4, we will learn how to use `if`, `elif`, `else` in Python.\n",
    "\n",
    "When we combine a `for` loop with `if` statements, we are creating an _algorithm_ (a process or set of rules to be followed in a repeatable fashion)."
   ]
  },
  {
   "cell_type": "markdown",
   "metadata": {},
   "source": [
    "---"
   ]
  },
  {
   "cell_type": "markdown",
   "metadata": {},
   "source": [
    "But first, we are going to learn a new recipe..."
   ]
  },
  {
   "cell_type": "markdown",
   "metadata": {},
   "source": [
    "# Reading CSV Files (or other text-based tabular data)\n",
    "\n",
    "\n",
    "```python\n",
    "import csv\n",
    "```\n",
    "\n",
    "### Recipe for reading CSV files with the `csv` module\n",
    "\n",
    "```python\n",
    "filename = \"my_file.csv\"\n",
    "\n",
    "csv_acc = [] # File data goes here\n",
    "with open(filename, \"r\") as csv_file:\n",
    "    csv_reader = csv.reader(csv_file)\n",
    "    for line in csv_reader:\n",
    "        csv_acc.append(line)\n",
    "```\n",
    "\n",
    "### Why use the `csv` module?\n",
    "\n",
    "The `csv` module returns a list of lists. The inner list is each piece of data separated out.\n",
    "\n",
    "Using `file.readline()` returns a `list` of `str` and a single line in the .csv file would look like this:\n",
    "\n",
    "```python\n",
    "'1337.874756,0.000097,0.000008,52.728630,0.000000,21.559002,-0.002069\\n'\n",
    "```\n",
    "\n",
    "Using `csv.reader()`, the data in the string is separated out and a single line in the .csv file would look like this:\n",
    "\n",
    "```python\n",
    "['1337.874756', '0.000097', '0.000008', '52.728630', '0.000000', '21.559002', '-0.002069']\n",
    "```\n"
   ]
  },
  {
   "cell_type": "markdown",
   "metadata": {},
   "source": [
    "Using `if` statements add logic to our code: the ability to make automated decisions.\n",
    "\n",
    "This is really powerful and a big part of what computing is all about!"
   ]
  },
  {
   "cell_type": "markdown",
   "metadata": {},
   "source": [
    "---"
   ]
  },
  {
   "cell_type": "markdown",
   "metadata": {
    "tags": []
   },
   "source": [
    "## `if`, `elif`, `else` syntax"
   ]
  },
  {
   "cell_type": "markdown",
   "metadata": {},
   "source": [
    "```python \n",
    "if <condition>:\n",
    "    <do something>\n",
    "elif <another condition>:\n",
    "    <do something a little different>\n",
    "elif <yet another condition>:\n",
    "    <do something more different>\n",
    "else:\n",
    "    <do this last thing when conditions above are not met>\n",
    "```\n",
    "\n",
    "### Lets break this down a bit\n",
    "\n",
    "```python\n",
    "if <condition>:\n",
    "```\n",
    "\n",
    "An `if`/`elif`/`else` block _always_ starts with an initial `if`. \n",
    "\n",
    "The `<condition>` part is some kind of _expression_ which will evaluate to either `True` or `False`. Both `True` and `False` are called \"booleans\" and there are only two of them.\n",
    "\n",
    "The last thing you need to add is a colon, `:`, as though to say to Python, \"pay attention to what comes next\".\n",
    "\n",
    "```python\n",
    "    <do something>\n",
    "```\n",
    "\n",
    "This can be any Python code. The only thing you have to remember about this is that you have to **indent** it by hitting the `[Tab]` key.\n",
    "\n",
    "```python\n",
    "elif <another condition>:\n",
    "```\n",
    "\n",
    "This is some other expression that will evaluate to either `True` or `False`. This condition will be evaluated ONLY if the first evaluates as `False`.\n",
    "\n",
    "```python\n",
    "else:\n",
    "```\n",
    "\n",
    "By using `else`, you are building in a \"fail safe\". You are telling Python, \"if nothing else passes, then run the back-up plan\". \n",
    "\n",
    "Do you NEED to end your `if` statement with an `else`? No, you don't. It is simply a _guarantee_ that _some_ code will run from your `if` statement."
   ]
  },
  {
   "cell_type": "markdown",
   "metadata": {},
   "source": [
    "# What is a \"condition\"?\n",
    "\n",
    "A condition is any Python _expression_ that evaluates to a `bool` type, i.e. either `True` or `False`. "
   ]
  },
  {
   "cell_type": "markdown",
   "metadata": {},
   "source": [
    "## Basic comparison operators\n",
    "\n",
    "If you are checking come kind of numerical condition, you might use comparison operators.\n",
    "\n",
    "These are the basic comparison operators:\n",
    "* `==` - Equal to\n",
    "* `>` - Greater than\n",
    "* `<` - Less than\n",
    "* `>=` - Greater than or equal to\n",
    "* `<=` - Less than or equal to\n",
    "* `!=` - Not equal to\n"
   ]
  },
  {
   "cell_type": "markdown",
   "metadata": {},
   "source": [
    "Test some comparisons out!\n",
    "\n",
    "```python\n",
    "a = 2\n",
    "b = 3.5\n",
    "c = 5\n",
    "\n",
    "print(f\"Is a greater than b? {a > b}\")\n",
    "print(f\"Is a less than b? {a < b}\")\n",
    "print(f\"Is a equal to b? {a == b}\")\n",
    "print(f\"Is a equal to c? {a == c}\") \n",
    "print(f\"Is a less than or equal to c? {a <= c}\") \n",
    "print(f\"Is c greater than or equal to b? {c >= b}\") \n",
    "print(f\"Is a not equal to c? {a != c}\") \n",
    "print(f\"Is a not equal to b? {a != b}\")\n",
    "```"
   ]
  },
  {
   "cell_type": "code",
   "execution_count": 3,
   "metadata": {},
   "outputs": [
    {
     "name": "stdout",
     "output_type": "stream",
     "text": [
      "a=2 b=3.5 c=5\n",
      "Is a greater than b? False\n",
      "Is a less than b? True\n",
      "Is a equal to b? False\n",
      "Is a equal to c? False\n",
      "Is a less than or equal to c? True\n",
      "Is c greater than or equal to b? True\n",
      "Is a not equal to c? True\n",
      "Is a not equal to b? True\n"
     ]
    }
   ],
   "source": [
    "a = 2\n",
    "b = 3.5\n",
    "c = 5\n",
    "\n",
    "print(f\"{a=} {b=} {c=}\")\n",
    "print(f\"Is a greater than b? {a > b}\")\n",
    "print(f\"Is a less than b? {a < b}\")\n",
    "print(f\"Is a equal to b? {a == b}\")\n",
    "print(f\"Is a equal to c? {a == c}\") \n",
    "print(f\"Is a less than or equal to c? {a <= c}\") \n",
    "print(f\"Is c greater than or equal to b? {c >= b}\") \n",
    "print(f\"Is a not equal to c? {a != c}\") \n",
    "print(f\"Is a not equal to b? {a != b}\")"
   ]
  },
  {
   "cell_type": "markdown",
   "metadata": {},
   "source": [
    "## Non-numerical conditions\n",
    "\n",
    "There are many string methods which will return `True` or `False` as a result of checking something within the string. e.g.\n",
    "\n",
    "```python\n",
    "my_first_string = \"1234\"\n",
    "my_second_string = \"COL300X600\"\n",
    "my_third_string = \"Good Evening, Engineers!\"\n",
    "\n",
    "my_first_string.isnumeric()\n",
    "my_second_string.isnumeric()\n",
    "my_third_string.isnumeric()\n",
    "\n",
    "my_first_string.isupper()\n",
    "my_second_string.isupper()\n",
    "my_third_string.isupper()\n",
    "```\n"
   ]
  },
  {
   "cell_type": "code",
   "execution_count": null,
   "metadata": {},
   "outputs": [],
   "source": []
  },
  {
   "cell_type": "markdown",
   "metadata": {},
   "source": [
    "## Other useful operators: `in`, `is`\n",
    "\n",
    "```python\n",
    "in\n",
    "```\n",
    "Use `in` to _check membership_, e.g.\n",
    "\n",
    "```python\n",
    "my_string = \"COL400x400\"\n",
    "my_list = [\"COL300x300\", \"COL600x600\", \"COL400x400\"]\n",
    "\n",
    "print(\"400\" in my_string)\n",
    "print(my_string in my_list)\n",
    "```"
   ]
  },
  {
   "cell_type": "code",
   "execution_count": null,
   "metadata": {},
   "outputs": [],
   "source": []
  },
  {
   "cell_type": "markdown",
   "metadata": {},
   "source": [
    "```python\n",
    "is\n",
    "```\n",
    "Use `is` to check if something __is the exact same data__ in computer memory as something else. \n",
    "\n",
    "Note, this does not check if something is _equal_ to something else. It checks to see if it is the *exact same thing* (i.e. it holds the same ID number in computer memory).\n",
    "\n",
    "`is` is most useful for checking if something is `None` (more on this later).\n",
    "\n",
    "```python\n",
    "a = \"COL400x400\"\n",
    "b = a\n",
    "print(a is b)\n",
    "\n",
    "b = \"COL400x400\".replace(\"400\", \"300\").replace(\"300\", \"400\")\n",
    "print(a is b)\n",
    "print(a == b)\n",
    "```"
   ]
  },
  {
   "cell_type": "code",
   "execution_count": null,
   "metadata": {},
   "outputs": [],
   "source": []
  },
  {
   "cell_type": "markdown",
   "metadata": {},
   "source": [
    "## Three \"logical\" operators: `not`, `and`, `or`\n",
    "\n",
    "* `not` \"negates\" a condition. In other words, it turns `True` into `False`. It will also turn `False` into `True`, e.g.\n",
    "   * `not name.isnumeric()`\n",
    "* `and` combines two different conditions and evaluates to `True` if both conditions are `True`, e.g.\n",
    "   * `a < b and a not in my_list` -> This will only evaluate to `True` if both conditions are met.\n",
    "* `or` also combines two different conditions and evaluates to `True` if at least one of the conditions are `True`, e.g.\n",
    "   * `a < b or a not in my_list` -> This will evaluate to `False` ONLY if neither of those conditions are `True`."
   ]
  },
  {
   "cell_type": "code",
   "execution_count": null,
   "metadata": {},
   "outputs": [],
   "source": []
  },
  {
   "cell_type": "code",
   "execution_count": null,
   "metadata": {},
   "outputs": [],
   "source": []
  },
  {
   "cell_type": "markdown",
   "metadata": {},
   "source": [
    "## \"Truthy\" and \"Falsey\"\n",
    "\n",
    "When you put a condition into an `if` statement, the condition will be FORCED into converting into a boolean, even if it does not use comparisons or other boolean operators.\n",
    "\n",
    "e.g. \n",
    "\n",
    "```python\n",
    "a = \"COL400x400\"\n",
    "b = \"\"\n",
    "\n",
    "if b:\n",
    "    print(\"b is 'Truthy'\")\n",
    "elif a:\n",
    "    print(\"a is 'Truthy'\")\n",
    "else:\n",
    "    print(\"Both a and b are 'Falsey'\")\n",
    "```"
   ]
  },
  {
   "cell_type": "markdown",
   "metadata": {},
   "source": [
    "> In general, all _values_ are Truthy. Any empty value is Falsey."
   ]
  },
  {
   "cell_type": "code",
   "execution_count": null,
   "metadata": {},
   "outputs": [],
   "source": []
  },
  {
   "cell_type": "markdown",
   "metadata": {},
   "source": [
    "**These are Falsey**:\n",
    "* `\"\"` <- Empty string\n",
    "* `[]` <- Empty list\n",
    "* `()` <- Empty parens (empty tuple)\n",
    "* `{}` <- Empty dict or set\n",
    "* `0` <- The integer 0\n",
    "* `0.0` <- The float 0\n",
    "* `None` <- The None-type (Null)\n",
    "\n",
    "**Almost everything else is Truthy**\n",
    "\n",
    "What would these be?\n",
    "\n",
    "* `\"False\"`\n",
    "* `\"0\"`\n",
    "* `[\"\"]`\n",
    "* `[0]`\n",
    "* `[None]`"
   ]
  },
  {
   "cell_type": "code",
   "execution_count": null,
   "metadata": {},
   "outputs": [],
   "source": []
  },
  {
   "cell_type": "markdown",
   "metadata": {},
   "source": [
    "## Last, note the following\n",
    "\n",
    "```python\n",
    "1 == 1.0 == True # All three of these are equivalent\n",
    "0 == 0.0 == False # All three of these are equivalent\n",
    "```\n",
    "\n",
    "Which means you can do things like this:\n",
    "\n",
    "```python\n",
    "x = 5\n",
    "y = 0.1 + (x > 2)*(x + 3) + (x > 10)*(x * 10) # Step functions\n",
    "```"
   ]
  },
  {
   "cell_type": "code",
   "execution_count": null,
   "metadata": {},
   "outputs": [],
   "source": []
  },
  {
   "cell_type": "markdown",
   "metadata": {},
   "source": [
    "# The Real Power: Combining `if`s with `for` loops\n",
    "\n",
    "If we can use a `for` loop to do something over and over again, would it not be excellent if the computer could do different things depending on what is in the data?\n",
    "\n",
    "`if` is often combined with `for` because it is often that we need to either filter data when we iterate or we want to take different actions based on different inputs.\n",
    "\n",
    "# New looping recipes!\n",
    "\n",
    "(These are all examples of algorithms)\n",
    "\n",
    "## 1. Filtering data\n",
    "\n",
    "```python\n",
    "your_data = ['data1', 'data2', 'data3', ...]\n",
    "\n",
    "acc = [] # Your \"accumulator\", maybe an an empty list\n",
    "for <item> in <your_data>:\n",
    "    if <condition>:\n",
    "        new_item = <do something with item>\n",
    "        acc.append(new_item)\n",
    "```"
   ]
  },
  {
   "cell_type": "markdown",
   "metadata": {},
   "source": [
    "## 2. Cycling data\n",
    "\n",
    "This recipe is a little bit looser just because there are so many options for things you might want to cycle through or ways of cycling through data.\n",
    "\n",
    "This recipe shows two possible options:\n",
    "\n",
    "1. You have your data and some sort of _cyclic data_ you want to correlate with your data (e.g. days of the week, months in a year, etc.)\n",
    "\n",
    "2. You have your data and you want to categorize it in some way according to the cycle.\n",
    "\n",
    "```python\n",
    "your_data = ['data1', 'data2', 'data3', ...]\n",
    "some_cyclic_data = [\"a\", \"b\", \"c\", \"d\"]\n",
    "\n",
    "acc = [] # Your accumulator, maybe an an empty list\n",
    "for <idx>, <item> in enumerate(<your_data>):\n",
    "    cycle = idx % <length_of_cycle> # Use modulo to convert the idx to a cycle count\n",
    "    \n",
    "    # Option 1:\n",
    "    corresponding_cyclic_data = some_cyclic_data[cycle]\n",
    "    new_item = <something combining your item and the corresponding cyclic_data>\n",
    "    \n",
    "    # Option 2:\n",
    "    if cycle == <x>:\n",
    "        new_item = <do this thing>\n",
    "    elif cycle == <y>:\n",
    "        new_item = <do this other thing>\n",
    "    elif cycle == <z>:\n",
    "        new_item = <do yet this other thing>\n",
    "    ...\n",
    "    acc.append(new_item)\n",
    "```"
   ]
  },
  {
   "cell_type": "markdown",
   "metadata": {},
   "source": [
    "## 3. List comprehensions\n",
    "\n",
    "\"Comprehensions\" are a feature of Python that are frequently used. Comprehensions are not _characteristic_ of Python (because some other languages have this feature) but Python makes distinctive use of this language feature.\n",
    "\n",
    "A comprehension is a way of writing a loop (and perhaps one `if`) all in a single line. They are best used when you need to write a very simple loop. \n",
    "\n",
    "Of the recipes we have learned so far, I would say that the _transformation_ recipe and the _filtering_ recipe lend themselves best to being used in comprehensions.\n",
    "\n",
    "### Explanation by example\n",
    "\n",
    "**A normal transformation loop recipe**\n",
    "```python\n",
    "col_sections = ['col400x400', 'col300x300', 'col600x600']\n",
    "\n",
    "acc = []\n",
    "for col_section in col_sections:\n",
    "    upper_col_section = col_section.upper()\n",
    "    acc.append(upper_col_section)\n",
    "```\n",
    "\n",
    "**The same loop, as a list comprehension**\n",
    "\n",
    "```python\n",
    "col_sections = ['col400x400', 'col300x300', 'col600x600']\n",
    "\n",
    "acc = [col_section.upper() for col_section in col_sections]\n",
    "```\n",
    "\n",
    "### How it works\n",
    "\n",
    "There are **four components** to a list comprehension.\n",
    "\n",
    "```\n",
    "[expression for member in iterable (if condition)]\n",
    "```\n",
    "\n",
    "1. Brackets - Put the entire comprehension in brackets, `[` and `]`. The brackets represent your final \"accumulator\".\n",
    "2. `expression` - This is Python code that evaluates to a single value\n",
    "3. `for item in iterable` - Just like a regular Python loop where you would write `for item in iterable:`\n",
    "4. `(if condition)` - Here you can say to Python, \"Evaluate the expression and put it in the accumulator if this condition evaluates to `True`\". If the condition evaluates `False`, nothing will be added to the accumulator.\n",
    "\n",
    "### More examples\n",
    "\n",
    "The simplest list comprehension (does nothing, just adds the existing items to a new list):\n",
    "\n",
    "```python\n",
    "col_sections = ['col400x400', 'col300x300', 'col600x600']\n",
    "new_col_sections = [col_section for col_section in col_sections] # [expression for member in iterable]\n",
    "```\n",
    "\n",
    "A transformation recipe (change all sections to upper-case):\n",
    "```python\n",
    "col_sections = ['col400x400', 'col300x300', 'col600x600']\n",
    "new_col_sections = [col_section.upper() for col_section in col_sections] # [expression for member in iterable]\n",
    "```\n",
    "\n",
    "A filtering recipe (add item to new list if second dimension is greater (alphabetically) than `\"300\"`):\n",
    "\n",
    "```python\n",
    "col_sections = ['col400x400', 'col300x300', 'col600x600']\n",
    "new_col_sections = [col_section for col_section in col_sections if col_section.split('x')[1] > \"300\"]\n",
    "```"
   ]
  },
  {
   "cell_type": "markdown",
   "metadata": {},
   "source": [
    "---"
   ]
  },
  {
   "cell_type": "markdown",
   "metadata": {},
   "source": [
    "# Lets write some algorithms together!\n",
    "\n",
    "For the following algorithms, we will take ten minutes to work through the examples on our own and then split into breakout groups to discuss strategies and share solutions.\n",
    "\n",
    "For each of these algorithm exercises, consider setting up some variables as your \"inputs\" and then have your algorithm operate on your input variables instead of operating on \"hard-coded values\" directly."
   ]
  },
  {
   "cell_type": "markdown",
   "metadata": {},
   "source": [
    "## 1. Conditionally changing column strengths\n",
    "\n",
    "You have a large analysis model of a building that has two towers: the West tower and the East tower. They are connected together at the podium for something like 3-4 floors and each tower separately has about 20 stories above the podium.\n",
    "\n",
    "* The West tower has rectangular columns and they are all oriented North-South (e.g. `COL600x300FC35`)\n",
    "* The East tower also has rectangular columns but they are all oriented East-West. (e.g. `COL300x600FC35`)\n",
    "\n",
    "Currently, all of the columns have the same compresive strength of 35 MPa.\n",
    "\n",
    "For various reasons, you now need to change the compressive strength of all the columns in the _East tower_ to 45 MPa.\n",
    "\n",
    "Here is a small selection of your column section labels, of which, for some ridiculous reason, you have about 40 of:\n",
    "\n",
    "```python\n",
    "all_columns = [\n",
    "    'COL600x300FC35',\n",
    "    'COL600x400FC35',\n",
    "    'COL200x500FC35',\n",
    "    'COL600x800FC35',\n",
    "    'COL800x600FC35',\n",
    "    'COL300x250FC35',\n",
    "    'COL800x400FC35',\n",
    "    'COL400x600FC35',\n",
    "    'COL300x600FC35',\n",
    "    'COL500x200FC35',\n",
    "    'COL400x800FC35',\n",
    "    'COL800x600FC35',\n",
    "]\n",
    "```\n",
    "\n",
    "Implement an algorithm that will change the compressive strength in the _East tower_ column section labels to 45 MPa."
   ]
  },
  {
   "cell_type": "code",
   "execution_count": null,
   "metadata": {},
   "outputs": [],
   "source": []
  },
  {
   "cell_type": "markdown",
   "metadata": {},
   "source": [
    "## 2. Beam pattern loading A\n",
    "\n",
    "You have a long list of lists representing beams and their spans. Some of your data looks like this:\n",
    "\n",
    "```python\n",
    "beam_spans = [\n",
    "    [3250, 4000, 3300, 3800, 4500, 3250], # This line represents a beam with six spans\n",
    "    [5000, 6000, 4000, 5000],\n",
    "    [4300, 7800, 6050],\n",
    "    [10000], # This line represents a beam with one span\n",
    "    [8000, 9400],\n",
    "    [3500, 5000, 7200, 6500, 7200, 6500, 5000, 3000],\n",
    "]\n",
    "```\n",
    "\n",
    "You need to run these through an analysis that applies a live load uniform distributed load (UDL) to the beams. But wait, you need to include pattern loading for these continuous beam spans.\n",
    "\n",
    "The live load UDL that you need to apply to your beams is going to be `60 kN/m`. \n",
    "\n",
    "For every beam span you give your analysis program, you need to give it a load vector of the UDL magnitude for each span.\n",
    "\n",
    "e.g.\n",
    "\n",
    "If your beam spans look like this:\n",
    "\n",
    "```\n",
    "beam_spans = [\n",
    "    [5000, 6000, 4000, 5000],\n",
    "    [8000, 9400, 8000],\n",
    "]\n",
    "```\n",
    "\n",
    "You need to supply your analysis program a load vector that looks like this:\n",
    "\n",
    "```\n",
    "[\n",
    "    [60, 30, 60, 30],\n",
    "    [60, 30, 60],\n",
    "]\n",
    "```\n",
    "(e.g. for odd-spans pattern loading)\n",
    "\n",
    "Implement an algorithm that will output a list of lists representing the pattern loading load vectors for each of the beams in `beam_spans`. If the beam has one span, then it just gets the full load. By changing the value of one \"setting\" in your algorithm, you should be able to output either even-spans pattern loading or odd-spans pattern loading."
   ]
  },
  {
   "cell_type": "code",
   "execution_count": null,
   "metadata": {},
   "outputs": [],
   "source": []
  }
 ],
 "metadata": {
  "kernelspec": {
   "display_name": "Python 3 (ipykernel)",
   "language": "python",
   "name": "python3"
  },
  "language_info": {
   "codemirror_mode": {
    "name": "ipython",
    "version": 3
   },
   "file_extension": ".py",
   "mimetype": "text/x-python",
   "name": "python",
   "nbconvert_exporter": "python",
   "pygments_lexer": "ipython3",
   "version": "3.9.12"
  }
 },
 "nbformat": 4,
 "nbformat_minor": 4
}
