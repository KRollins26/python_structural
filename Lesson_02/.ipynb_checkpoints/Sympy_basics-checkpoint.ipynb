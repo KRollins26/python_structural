{
 "cells": [
  {
   "cell_type": "markdown",
   "id": "c6f6964c-4519-4214-83bf-9798704df8e7",
   "metadata": {},
   "source": [
    "# Sympy basics (a bit more on Sympy)\n",
    "\n",
    "Sympy is a computational algebra framework. It specializes in performing symbolic math and can perform a wide variety of general mathematics operations. Chances are, if you can think of it, it can do it.\n",
    "\n",
    "Here are some basic examples of ways you can use Sympy in engineering:"
   ]
  },
  {
   "cell_type": "code",
   "execution_count": 1,
   "id": "ff3db284-1b3f-4ae5-a123-53893544aa3b",
   "metadata": {},
   "outputs": [],
   "source": [
    "from sympy import symbols, Eq\n",
    "from sympy.solvers import solve"
   ]
  },
  {
   "cell_type": "markdown",
   "id": "937d9b12-a08e-41cc-af81-4b61b05618bf",
   "metadata": {},
   "source": [
    "## Algebraic manipulation\n",
    "\n",
    "You can use sympy to create algebraic expressions, solve for different variables in the expression, and substitute expressions for symbols or numbers for symbols.\n",
    "\n",
    "I am not often grinding out big algebra in my day-to-day but sometimes I do have to do some. I do it by hand first and do a check with Sympy.\n",
    "\n",
    "Here is a simple example with the equation for a line:\n",
    "\n",
    "```python\n",
    "m, x, b = symbols(\"m x b\")\n",
    "y = m*x + b\n",
    "y\n",
    "```\n",
    "\n",
    "Now, I can solve for values of `y` by substituting values of `m`, `x`, and `b`:\n",
    "```python\n",
    "y.subs({m: -0.433, x: 23, b: 100})\n",
    "```"
   ]
  },
  {
   "cell_type": "code",
   "execution_count": 2,
   "id": "8e6585bc-37f9-4a49-aefc-1ffc403b5f23",
   "metadata": {},
   "outputs": [],
   "source": [
    "m, x, b = symbols(\"m x b\")\n",
    "y = m*x + b"
   ]
  },
  {
   "cell_type": "code",
   "execution_count": 3,
   "id": "f6cd2e9e-86ad-42ea-b38c-e42f9ed4c90a",
   "metadata": {},
   "outputs": [
    {
     "data": {
      "text/latex": [
       "$\\displaystyle b + m x$"
      ],
      "text/plain": [
       "b + m*x"
      ]
     },
     "execution_count": 3,
     "metadata": {},
     "output_type": "execute_result"
    }
   ],
   "source": [
    "y"
   ]
  },
  {
   "cell_type": "markdown",
   "id": "af7f7126-9a43-42e5-afd8-79655f86f40b",
   "metadata": {},
   "source": [
    "You can also make a complete equation with a left-hand side and a right-hand side (\"lhs\", \"rhs\"):\n",
    "\n",
    "```python\n",
    "y = symbols('y')\n",
    "line_eqn = Eq(y, m*x + b) #Left-hand side, Right-hand side\n",
    "line_eqn\n",
    "```\n",
    "\n",
    "Now, you can solve the equation for different variables:\n",
    "\n",
    "```python\n",
    "solve(line_eqn, m)\n",
    "```"
   ]
  },
  {
   "cell_type": "code",
   "execution_count": 4,
   "id": "03021445-de2e-4f75-8fbf-7741dd2d02fe",
   "metadata": {},
   "outputs": [],
   "source": [
    "y = symbols('y')\n",
    "line_eqn = Eq(y, m*x + b)"
   ]
  },
  {
   "cell_type": "code",
   "execution_count": 5,
   "id": "6c370448-d833-4a54-b038-3e14542f91ad",
   "metadata": {},
   "outputs": [
    {
     "data": {
      "text/latex": [
       "$\\displaystyle y = b + m x$"
      ],
      "text/plain": [
       "Eq(y, b + m*x)"
      ]
     },
     "execution_count": 5,
     "metadata": {},
     "output_type": "execute_result"
    }
   ],
   "source": [
    "line_eqn"
   ]
  },
  {
   "cell_type": "code",
   "execution_count": 6,
   "id": "ace755d3-448f-4f7c-97f8-07c6607359f3",
   "metadata": {},
   "outputs": [
    {
     "data": {
      "text/latex": [
       "$\\displaystyle \\frac{- b + y}{x}$"
      ],
      "text/plain": [
       "(-b + y)/x"
      ]
     },
     "execution_count": 6,
     "metadata": {},
     "output_type": "execute_result"
    }
   ],
   "source": [
    "solve(line_eqn, m)[0]"
   ]
  },
  {
   "cell_type": "markdown",
   "id": "5f149e53-c741-498f-b39f-1449f2b9a752",
   "metadata": {},
   "source": [
    "## A more complicated example: Rearranging the concrete flexural equation\n",
    "\n",
    "In this example, we can see how we can substitute a whole expression for $a$, the depth of the compression block and then solve the equation for $A_s$, the area of steel required:\n",
    "\n",
    "```python\n",
    "# Lotsa symbols...\n",
    "alpha, phi_c, phi_s, d, b, M_f, f_y, f_c, A_s, a = symbols(\"alpha, phi_c, phi_s, d, b, M_f, f_y, f'_c, A_s, a\")\n",
    "\n",
    "moment_eq = Eq(M_f, phi_s * f_y * A_s * (d - a/2)) # This is an equation with a lhs and rhs assigned to a variable\n",
    "comp_block = phi_s * f_y * A_s / (phi_c * alpha * f_c * b) # This is just an expression assigned to a variable\n",
    "\n",
    "moment_eq = moment_eq.subs({a: comp_block})\n",
    "\n",
    "A_steel = solve(moment_eq, A_s)[0]\n",
    "```\n",
    "\n",
    "Then, once it has been run, perform some substitutions:\n",
    "```python\n",
    "steel_reqd = A_steel.subs({f_c: 35, M_f: 300e6, b: 300, f_y:400, alpha: 0.805, d: 450, phi_s: 0.85, phi_c: 0.65})\n",
    "print(f\"Area of steel, (mm2): {float(steel_reqd)}\")\n",
    "```"
   ]
  },
  {
   "cell_type": "code",
   "execution_count": 7,
   "id": "3043f50d-60f2-4f5f-9bbe-bfbe3cd18881",
   "metadata": {},
   "outputs": [],
   "source": [
    "alpha, phi_c, phi_s, d, b, M_f, f_y, f_c, A_s, a = symbols(\"alpha, phi_c, phi_s, d, b, M_f, f_y, f'_c, A_s, a\")"
   ]
  },
  {
   "cell_type": "code",
   "execution_count": 8,
   "id": "2ec2cda4-2840-433a-bf6e-0c283de403cf",
   "metadata": {},
   "outputs": [],
   "source": [
    "moment_eq = Eq(M_f, phi_s * f_y * A_s * (d - a/2))"
   ]
  },
  {
   "cell_type": "code",
   "execution_count": 9,
   "id": "89ebafca-313e-404d-85cd-951ebb74fd4e",
   "metadata": {},
   "outputs": [
    {
     "data": {
      "text/latex": [
       "$\\displaystyle M_{f} = A_{s} f_{y} \\phi_{s} \\left(- \\frac{a}{2} + d\\right)$"
      ],
      "text/plain": [
       "Eq(M_f, A_s*f_y*phi_s*(-a/2 + d))"
      ]
     },
     "execution_count": 9,
     "metadata": {},
     "output_type": "execute_result"
    }
   ],
   "source": [
    "moment_eq"
   ]
  },
  {
   "cell_type": "code",
   "execution_count": 19,
   "id": "9fec0ce1-ec98-4b72-a4c3-e84a7e4c3f5f",
   "metadata": {},
   "outputs": [],
   "source": [
    "moment_eq = moment_eq.subs({a: comp_block})"
   ]
  },
  {
   "cell_type": "code",
   "execution_count": 20,
   "id": "f06f93a0-bf3a-4fc3-ae36-abf8ebac203e",
   "metadata": {},
   "outputs": [
    {
     "data": {
      "text/latex": [
       "$\\displaystyle M_{f} = A_{s} f_{y} \\phi_{s} \\left(- \\frac{A_{s} f_{y} \\phi_{s}}{2 \\alpha b f'_{c} \\phi_{c}} + d\\right)$"
      ],
      "text/plain": [
       "Eq(M_f, A_s*f_y*phi_s*(-A_s*f_y*phi_s/(2*alpha*b*f'_c*phi_c) + d))"
      ]
     },
     "execution_count": 20,
     "metadata": {},
     "output_type": "execute_result"
    }
   ],
   "source": [
    "moment_eq"
   ]
  },
  {
   "cell_type": "code",
   "execution_count": 21,
   "id": "5d648ba5-e9fe-4418-9e44-7f31448dde40",
   "metadata": {},
   "outputs": [],
   "source": [
    "A_steel = solve(moment_eq, A_s)"
   ]
  },
  {
   "cell_type": "code",
   "execution_count": 23,
   "id": "30526f0a-4d49-40a8-bbe2-01ffb5072513",
   "metadata": {},
   "outputs": [
    {
     "data": {
      "text/latex": [
       "$\\displaystyle \\frac{\\alpha b d f'_{c} \\phi_{c} - \\sqrt{\\alpha b f'_{c} \\phi_{c} \\left(- 2 M_{f} + \\alpha b d^{2} f'_{c} \\phi_{c}\\right)}}{f_{y} \\phi_{s}}$"
      ],
      "text/plain": [
       "(alpha*b*d*f'_c*phi_c - sqrt(alpha*b*f'_c*phi_c*(-2*M_f + alpha*b*d**2*f'_c*phi_c)))/(f_y*phi_s)"
      ]
     },
     "execution_count": 23,
     "metadata": {},
     "output_type": "execute_result"
    }
   ],
   "source": [
    "A_steel[0]"
   ]
  }
 ],
 "metadata": {
  "kernelspec": {
   "display_name": "Python 3 (ipykernel)",
   "language": "python",
   "name": "python3"
  },
  "language_info": {
   "codemirror_mode": {
    "name": "ipython",
    "version": 3
   },
   "file_extension": ".py",
   "mimetype": "text/x-python",
   "name": "python",
   "nbconvert_exporter": "python",
   "pygments_lexer": "ipython3",
   "version": "3.9.12"
  }
 },
 "nbformat": 4,
 "nbformat_minor": 5
}
