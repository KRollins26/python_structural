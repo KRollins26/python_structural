{
 "cells": [
  {
   "cell_type": "markdown",
   "id": "ae750765-e9d8-4bfe-8759-27160560efa3",
   "metadata": {},
   "source": [
    "# forallpeople: adding unit awareness\n",
    "\n",
    "[Read the forallpeople documentation](https://github.com/connorferster/forallpeople/)\n",
    "\n",
    "**Typical imports**\n",
    "```python\n",
    "import forallpeople\n",
    "forallpeople.environment('structural', top_level=True)\n",
    "```\n",
    "\n",
    "Working with `handcalcs` is another library called `forallpeople`. It is so named because the words of Nicholas de Condorcet as he wrote about the new metric system in revolutionary France: \"It is to be for all people, for all time.\"\n",
    "\n",
    "`forallpeople` is a library that adds capability to perform units-aware calculations by using the SI units system (and units derived or defined by the SI unit system, such as US Customary units).\n",
    "\n",
    "## What units are there in the `structural` environment?\n",
    "\n",
    "To find out what units you have access to now, use `forallpeople.environment()` and they will all print to the screen."
   ]
  },
  {
   "cell_type": "code",
   "execution_count": null,
   "id": "e17c3f2c-a2bb-4e1d-9cda-1a68384ee11d",
   "metadata": {},
   "outputs": [],
   "source": []
  },
  {
   "cell_type": "markdown",
   "id": "ee115a5c-901d-40ae-8fb1-6c797f44aac9",
   "metadata": {},
   "source": [
    "## How to use\n",
    "\n",
    "Simply multiply your values by your units:\n",
    "\n",
    "```python\n",
    "phi = 0.65\n",
    "Z_x = 600e3*mm**3\n",
    "f_y = 350*MPa\n",
    "M_r = phi * Z_x * f_y\n",
    "M_r\n",
    "```\n",
    "\n",
    "Use it with handcalcs:\n",
    "\n",
    "**Cell 1**\n",
    "```python\n",
    "%%render params\n",
    "phi = 0.65\n",
    "Z_x = 600e3*mm**3\n",
    "f_y = 40*MPa\n",
    "```\n",
    "**Cell 2**\n",
    "```python\n",
    "%%render\n",
    "M_r = phi * Z_x * f_y\n",
    "```"
   ]
  },
  {
   "cell_type": "code",
   "execution_count": null,
   "id": "dd9bbefd-5b46-4ea2-bf3a-9c07d8c12c91",
   "metadata": {},
   "outputs": [],
   "source": []
  },
  {
   "cell_type": "markdown",
   "id": "09a6e721-45b5-4e46-a616-254d1489994d",
   "metadata": {},
   "source": [
    "## How to show results in different units?\n",
    "\n",
    "#### Use `.to()` and `.si()`\n",
    "\n",
    "Examples:\n",
    "\n",
    "**Cell 3**\n",
    "```python\n",
    "%%render\n",
    "M_r_US = M_r.to(\"kipft\") # US Customary\n",
    "```\n"
   ]
  }
 ],
 "metadata": {
  "kernelspec": {
   "display_name": "Python 3 (ipykernel)",
   "language": "python",
   "name": "python3"
  },
  "language_info": {
   "codemirror_mode": {
    "name": "ipython",
    "version": 3
   },
   "file_extension": ".py",
   "mimetype": "text/x-python",
   "name": "python",
   "nbconvert_exporter": "python",
   "pygments_lexer": "ipython3",
   "version": "3.9.12"
  }
 },
 "nbformat": 4,
 "nbformat_minor": 5
}
