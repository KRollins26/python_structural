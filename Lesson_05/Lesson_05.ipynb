{
 "cells": [
  {
   "cell_type": "code",
   "execution_count": 3,
   "metadata": {},
   "outputs": [],
   "source": [
    "from rich import print"
   ]
  },
  {
   "cell_type": "code",
   "execution_count": 3,
   "metadata": {},
   "outputs": [],
   "source": [
    "from typing import Union\n",
    "import ipytest\n",
    "ipytest.autoconfig()"
   ]
  },
  {
   "cell_type": "markdown",
   "metadata": {
    "tags": []
   },
   "source": [
    "# Lesson 5: Dictionaries and Functions (and testing)"
   ]
  },
  {
   "cell_type": "markdown",
   "metadata": {},
   "source": [
    "## A new Python data type: `dict` (dictionary)\n",
    "\n",
    "A dictionary, or `dict`, is very similar to a `list`:\n",
    "\n",
    "```python\n",
    "my_list = [\"col300x300\", \"col400x400\", \"col500x500\", \"col600x600\"]\n",
    "\n",
    "# Use an index to lookup and retrieve items in the list\n",
    "my_list[2] # \"col500x500\"\n",
    "my_list[1] # \"col400x400\"\n",
    "```\n",
    "\n",
    "A `dict` is like a `list` but, instead of using an integer index to retrieve an item from the list, you can instead use a **key**.\n",
    "\n",
    "```python\n",
    "my_dict = {\n",
    "    \"Roof-L14\": \"col300x300\", # key: value, \n",
    "    \"L13-L09\": \"col400x400\",\n",
    "    \"L08-L03\": \"col500x500\",\n",
    "    \"L03-P02\": \"col600x600\",\n",
    "}\n",
    "\n",
    "# Use the *key* to lookup and retrieve items in the dictionary\n",
    "my_dict[\"L13-L09\"] # \"col400x400\"\n",
    "my_dict[\"L03-P02\"] # \"col600x600\"\n",
    "```\n",
    "\n",
    "### Keys and values\n",
    "\n",
    "A `dict` is like a list of `key: value,` pairs. Important things to know and remember about `dict`s:\n",
    "\n",
    "1. Dictionary keys must be _unique_: you cannot have a dictionary with two identical keys and two different values. If you add two elements to the dictionary with the same key, the second \"key: value\" pair will overwrite the first.\n",
    "2. Dictionary keys must be _hashable_: \"hashable\" is a way of saying that the key must be _immutable_. Immutable types in Python include (but are not limited to) `str`, `float`, `int`, `tuple`. Mutable types, which _cannot_ be used as keys, include `list` and `dict`.\n",
    "3. Dictionary _values_ can be _anything_ including the mutable types such as `list` and `dict`.\n",
    "\n",
    "> Side note: `tuple`? What is a `tuple`?\n",
    ">\n",
    "> A `tuple` is almost identical to a list. To make a `list`, use `[` and `]`. To make a `tuple`, use `(` and `)`.\n",
    "> \n",
    "> A `list` allows you to change, append, and delete items from the list. A `tuple` does not allow you to change, append, or delete anything from the `tuple` after it has been created. Because of this, you _can_ use them as dictionary keys."
   ]
  },
  {
   "cell_type": "markdown",
   "metadata": {},
   "source": [
    "### Making, updating, and retrieving `dict` items\n",
    "\n",
    "1. You can use `{` and `}` to create a `dict` manually, e.g.\n",
    "\n",
    "    ```python\n",
    "    sections = {\"col_sections\": [\"col300x300\", \"col400x400\"], \"beam_sections\": [\"b200x600\", \"b300x800\"]}\n",
    "    ```\n",
    "\n",
    "2. Or, you can use the `dict()` function and pass _keyword arguments_, e.g.\n",
    "\n",
    "```python\n",
    "sections = dict(\n",
    "    col_sections=[\"col300x300\", \"col400x400\"], \n",
    "    beam_section=[\"b200x600\", \"b300x800\"]\n",
    ")\n",
    "```\n",
    "\n",
    "> When you pass keyword arguments it is in the form of `key=value`. Note, that when passing keyword arguments, the keys, although they are strings, do not have quotes around them."
   ]
  },
  {
   "cell_type": "code",
   "execution_count": null,
   "metadata": {},
   "outputs": [],
   "source": []
  },
  {
   "cell_type": "markdown",
   "metadata": {},
   "source": [
    "2. Update an existing (or empty) `dict` with `.update()`, e.g.\n",
    "\n",
    "    ```python\n",
    "    acc = {} # Empty dict\n",
    "    acc.update({\"col_sections\": [\"col300x300\", \"col400x400\"]}) # Update the dict with another dict\n",
    "    acc.update({\"beam_sections\": [\"b200x600\", \"b300x800\"]}) # Update the dict with another dict\n",
    "    ```\n",
    "> You can also use `.update()` to overwrite the value assigned to a key. e.g.\n",
    "```python\n",
    "my_dict = {\"col_section\": \"col300x300\"}\n",
    "my_dict.update({\"col_section\": \"col500x500\"})\n",
    "my_dict # {\"col_section\": \"col500x500\"}\n",
    "```"
   ]
  },
  {
   "cell_type": "code",
   "execution_count": null,
   "metadata": {},
   "outputs": [],
   "source": []
  },
  {
   "cell_type": "markdown",
   "metadata": {},
   "source": [
    "3. Retrieve items with one of two ways:\n",
    "\n",
    "    A. Retrieve with indexing:\n",
    "```python\n",
    "my_dict = {\"col_section\": \"col300x300\"}\n",
    "my_dict[\"col_section\"] # \"col300x300\"\n",
    "my_dict[\"beam_section\"] # Not in dictionary keys. Will cause KeyError.\n",
    "```"
   ]
  },
  {
   "cell_type": "code",
   "execution_count": 5,
   "metadata": {},
   "outputs": [],
   "source": []
  },
  {
   "cell_type": "markdown",
   "metadata": {},
   "source": [
    "    B. Retrieve with .get() method:\n",
    "    \n",
    "```python\n",
    "my_dict = {\"col_section\": \"col300x300\"}\n",
    "my_dict.get(\"col_section\") # \"col300x300\"\n",
    "my_dict.get(\"beam_section\") # Not in dictionary keys. Does NOT cause KeyError. Returns None.\n",
    "```"
   ]
  },
  {
   "cell_type": "markdown",
   "metadata": {},
   "source": [
    "### `dict` Methods\n",
    "\n",
    "Like `list` and `str`, dictionaries come with a variety of useful methods. What follows is an introduction to some of the ones you may find most useful.\n",
    "\n",
    "#### `.get(key, default=None)`\n",
    "\n",
    "Retrieve the value for the given key. If the key is not found then return the value given in `default`.\n",
    "\n",
    "e.g.\n",
    "\n",
    "```python\n",
    "my_dict = {\"col_section\": \"col300x300\"}\n",
    "my_dict.get(\"beam_section\", default=\"beam200x600\") # \"beam200x600\" because \"beam_section\" is not a key in the dict\n",
    "\n",
    "my_dict.get(\"col_section\") # \"col300x300\"\n",
    "```\n",
    "\n",
    "#### `.update(d)`\n",
    "\n",
    "Adds the `key: value` pairs in the dictionary `d` to the dictionary. If the key is already present, the value is set to the new value.\n",
    "\n",
    "e.g.\n",
    "```python\n",
    "my_dict = {\"col_section\": \"col300x300\"}\n",
    "my_dict.update({\"beam_section\": \"beam200x600\"}) # This updates my_dict in place. This is possible because a dict is _mutable_.\n",
    "\n",
    "print(my_dict) # See how my_dict has changed\n",
    "```\n",
    "\n",
    "#### `.items()`, `.keys()`, and `.values()`\n",
    "\n",
    "Used when iterating (i.e. when starting a `for` loop).\n",
    "\n",
    "* `.keys()` iterates over the dictionary keys\n",
    "* `.values()` iterates over the dictionary values\n",
    "* `.items()` iterates over both keys and values\n",
    "\n",
    "e.g.\n",
    "```python\n",
    "my_dict = {\"col_section\": \"col300x300\", \"beam_section\": \"beam200x600\"}\n",
    "\n",
    "for key in my_dict.keys():\n",
    "    print(key)\n",
    "    \n",
    "for value in my_dict.values():\n",
    "    print(value)\n",
    "    \n",
    "for key, value in my_dict.items():\n",
    "    print(key)\n",
    "    print(value)\n",
    "```"
   ]
  },
  {
   "cell_type": "code",
   "execution_count": null,
   "metadata": {},
   "outputs": [],
   "source": []
  },
  {
   "cell_type": "markdown",
   "metadata": {},
   "source": [
    "---"
   ]
  },
  {
   "cell_type": "markdown",
   "metadata": {},
   "source": [
    "# Functions"
   ]
  },
  {
   "cell_type": "markdown",
   "metadata": {
    "tags": []
   },
   "source": [
    "In all of our lessons and workbooks so far, we have just been writing code and running it directly in a given cell. This is fine and good for trying things out or writing a short script to just do one or two things. \n",
    "\n",
    "But, going beyond just scripts, how do you write a *program*?\n",
    "\n",
    "A main focus of this course is on how to write structured and flexible *programs* that you can use over and over again in your work. By understanding how to structure programs, you will quickly gain confidence in your programming ability.\n",
    "\n",
    "Programs all start with **functions**."
   ]
  },
  {
   "cell_type": "code",
   "execution_count": null,
   "metadata": {},
   "outputs": [],
   "source": []
  },
  {
   "cell_type": "markdown",
   "metadata": {},
   "source": [
    "## What is a function?\n",
    "\n",
    "A function is a small piece of code that describes a _process_ and is assigned a name. \n",
    "\n",
    "Our previous workbook exercise was just code written in Jupyter cells. If you wanted to run that code in multiple places, you would have to copy and paste the cell. \n",
    "\n",
    "A function allows you to write some code once, and use it multiple times by just calling its name, like this:\n",
    "\n",
    "```python\n",
    "def vector_add(v1: list[float], v2: list[float]) -> list[float]:\n",
    "    \"\"\"\n",
    "    Returns a list representing the vector sum of the lists 'v1' and 'v2'.\n",
    "    Both 'v1' and 'v2' must be the same length and must contain only numbers,\n",
    "    either float or int.\n",
    "    \"\"\"\n",
    "    v_result = []\n",
    "    for idx, item in enumerate(v1):\n",
    "        new_item = item + v2[idx]\n",
    "        v_result.append(new_item)\n",
    "    return v_result\n",
    "```\n",
    "\n",
    "Now that the function has been defined it can be used later in the code and in multiple places:\n",
    "\n",
    "```python\n",
    "column_loads_roof = [32.3, 0., 24.2] # DL, LL, SL\n",
    "column_loads_l06 = [39.7, 55.0, 0.] # DL, LL, SL\n",
    "\n",
    "column_loads_l05 = vector_add(column_loads_roof, column_loads_l06)\n",
    "```"
   ]
  },
  {
   "cell_type": "code",
   "execution_count": null,
   "metadata": {},
   "outputs": [],
   "source": []
  },
  {
   "cell_type": "markdown",
   "metadata": {},
   "source": [
    "## Components of a function:\n",
    "\n",
    "We are going to break down the parts of this function:\n",
    "```python\n",
    "def vector_add(v1: list[float], v2: list[float]) -> list[float]:\n",
    "    \"\"\"\n",
    "    Returns a list representing the vector sum of the lists 'v1' and 'v2'.\n",
    "    Both 'v1' and 'v2' must be the same length and must contain only numbers,\n",
    "    either float or int.\n",
    "    \"\"\"\n",
    "    v_result = []\n",
    "    for idx, item in enumerate(v1):\n",
    "        new_item = item + v2[idx]\n",
    "        v_result.append(new_item)\n",
    "    return v_result\n",
    "```\n",
    "\n",
    "\n",
    "### 1. The \"signature\":\n",
    "\n",
    "```python\n",
    "def vector_add(v1: list[float], v2: list[float]) -> list[float]:\n",
    "```\n",
    "Use the `def` keyword, we _define_ the name of the function. \n",
    "\n",
    "A complete function signature includes:\n",
    "* The name of the function\n",
    "* The arguments it takes\n",
    "* The types of the arguments\n",
    "* The type of the output, or _return_, value\n",
    "\n",
    "A good function signature should be able to tell us most of what we need to know about the function without _having_ to read the docstring.\n",
    "\n",
    "**Everything that follows the signature is indented. This signifies that everything that follows is in the scope of the function.**\n",
    "\n",
    "### 2. The \"doc string\":\n",
    "```python\n",
    "    \"\"\"\n",
    "    Returns a list representing the vector sum of the lists 'v1' and 'v2'.\n",
    "    Both 'v1' and 'v2' must be the same length and must contain only numbers,\n",
    "    either float or int.\n",
    "    \"\"\"\n",
    "```\n",
    "The doc string is just a `str` written with three quotes (`\"\"\"`, used for multi-line strings) that tells us what the function does. We can read the doc string of any function in python by typing `help(<function name>)`. e.g. We could type `help(loud_string)` to see the doc string of our function here.\n",
    "\n",
    "### 3. The \"implementation\":\n",
    "```python\n",
    "    v_result = []\n",
    "    for idx, item in enumerate(v1):\n",
    "        new_item = item + v2[idx]\n",
    "        v_result.append(new_item)\n",
    "```\n",
    "The implementation is what we call the actual lines of code in the function. We call it this because it is the implementation of the *idea* or *purpose* of the function. Often times, there are many ways to implement any given function. The way that it is written is just the _current implementation_.\n",
    "\n",
    "### 4. The `return`\n",
    "```python\n",
    "return v_result\n",
    "```\n",
    "`return` is a special keyword in Python that only has meaning inside of a function. If you try using `return` in your code outside of a function, Python will give you `SyntaxError: 'return' outside function`.\n",
    "\n",
    "**The `return` keyword tells the Python to do two things:**\n",
    "\n",
    "1. Terminate the function\n",
    "2. Evaluate the _expression_ beside the `return` keyword and pass its value from inside the function scope to the outside \"calling\" scope.\n",
    "\n",
    "#### Wait! What happens if I forget to put the `return` statement???\n",
    "\n",
    "If you forget to put the `return` statement in, your function will still end at the last line. No big deal. All functions will return something whether you put the `return` statement there or not. \n",
    "\n",
    "What will it return if you do not tell it what to return? It will return `None`."
   ]
  },
  {
   "cell_type": "code",
   "execution_count": null,
   "metadata": {},
   "outputs": [],
   "source": []
  },
  {
   "cell_type": "markdown",
   "metadata": {},
   "source": [
    "## Function arguments: positional and keyword\n",
    "\n",
    "### Positional arguments\n",
    "\n",
    "In the function signature, we specify the function _arguments_. \n",
    "\n",
    "```python\n",
    "def my_func(param_1: type, param_2: type) -> type:\n",
    "```\n",
    "\n",
    "This function signature describes two _positional_ arguments. When the function is called, the function knows the difference between `param_1` and `param_2` because of their positions:\n",
    "\n",
    "```python\n",
    "a=1\n",
    "b=2\n",
    "my_func(a, b) # a is passed as param_1, b is passed as param_2\n",
    "```\n",
    "\n",
    "We could also called the function by explicitily saying which value is going to which argument. In so doing, we would say that we are passing _keyword arguments_:\n",
    "\n",
    "```python\n",
    "a=1\n",
    "b=2\n",
    "my_func(param_1=a, param_2=b)\n",
    "\n",
    "# When passing arguments as positional arguments, you can do so in any order\n",
    "my_func(param_2=b, param_1=a) # This is the same\n",
    "```\n",
    "\n",
    "### Keyword arguments\n",
    "\n",
    "We can also explicitly set certain arguments in the function signature as _keyword arguments_ which allows us to set _default values_ for the arguments:\n",
    "\n",
    "```python\n",
    "def my_func(param_1: type = 100, param_2: type = 0) -> type:\n",
    "```\n",
    "\n",
    "Now, because `my_func` is defined with two keyword arguments and, because they have default values, they become _optional_ arguments. You do not need to pass any new arguments to call the function.\n",
    "\n",
    "```python\n",
    "my_func() # param_1 is 100, param_2 is 0\n",
    "```\n",
    "\n",
    "When calling the function, you can pass alternate values to `param_1` and `param_2` as _either_ positional or keyword arguments:\n",
    "\n",
    "```python\n",
    "my_func(40) # param_1 is 40, param_2 is 0\n",
    "my_func(param_2=54) # param_1 is 100, param_2 is 54\n",
    "my_func(40, 54) # param_1 is 40, param_2 is 54\n",
    "my_func(param_2=32, param_1=16) # etc.\n",
    "```"
   ]
  },
  {
   "cell_type": "code",
   "execution_count": null,
   "metadata": {},
   "outputs": [],
   "source": []
  },
  {
   "cell_type": "markdown",
   "metadata": {},
   "source": [
    "## Function scope vs global scope\n",
    "\n",
    "Consider that, for this function, we have defined the following variable names _within_ the function scope: `v1`, `v2`, `v_result`, `idx`, `item`, and `new_item` (in that order).\n",
    "\n",
    "```python\n",
    "def vector_add(v1: list[float], v2: list[float]) -> list[float]:\n",
    "    \"\"\"\n",
    "    Returns a list representing the vector sum of the lists 'v1' and 'v2'.\n",
    "    Both 'v1' and 'v2' must be the same length and must contain only numbers,\n",
    "    either float or int.\n",
    "    \"\"\"\n",
    "    # Indented means we are within the function scope and have access to the variables\n",
    "    # defined within the function scope.\n",
    "    v_result = []\n",
    "    for idx, item in enumerate(v1):\n",
    "        new_item = item + v2[idx]\n",
    "        v_result.append(new_item)\n",
    "    return v_result\n",
    "\n",
    "# Outside the function scope, we do NOT have access to the variable names defined within the function scope.\n",
    "print(v_result) # This will not work because v_result is not defined outside of the function scope.\n",
    "```\n"
   ]
  },
  {
   "cell_type": "code",
   "execution_count": null,
   "metadata": {},
   "outputs": [],
   "source": []
  },
  {
   "cell_type": "markdown",
   "metadata": {
    "tags": []
   },
   "source": [
    "# A note on type hints, doc strings, and self-commenting code\n",
    "\n",
    "## Type hints\n",
    "Python is a _dynamically-typed_ language. This means it _does not require_ you to declare the types of your variables unlike programming languages like C, C++, C#, and VBA that do require it.\n",
    "\n",
    "However, Python has the feature of _type hints_. They are annotations on our function signatures that _do not affect_ the running of code. Your code runs fine without them but they are used by various programming utilities that aid you in writing code quickly.\n",
    "\n",
    "```python\n",
    "def louder(s: str) -> str:\n",
    "```\n",
    "\n",
    "See the [Lesson_05 Reference](Lesson_05_Reference.ipynb#Type-hints-in-Python) for more information on using type hints."
   ]
  },
  {
   "cell_type": "markdown",
   "metadata": {
    "tags": []
   },
   "source": [
    "## Doc strings\n",
    "By writing informative doc strings, it becomes easy to understand what a function's purpose is and how it should be used. If written poorly or improperly, doc strings could actually be misleading. \n",
    "\n",
    "They can be used to describe the acceptable values of the parameters, the overall purpose of the function, describe when errors may occur, describe the limits of what the function can do, or what the return value represents.\n",
    "\n",
    "```python\n",
    "    \"\"\"\n",
    "    Returns a list representing the vector sum of the lists 'v1' and 'v2'.\n",
    "    Both 'v1' and 'v2' must be the same length and must contain only numbers,\n",
    "    either float or int.\n",
    "    \"\"\"\n",
    "```"
   ]
  },
  {
   "cell_type": "markdown",
   "metadata": {
    "tags": []
   },
   "source": [
    "## Self-commenting code\n",
    "I have heard some people say things like, \"Every line of code should have a comment.\"\n",
    "\n",
    "I respectfully disagree.\n",
    "\n",
    "My opinion is that comments should be used _sparingly_ and should not be used to describe what the code _is doing_. That should be obvious from the code itself. Comments are best utilized when describing _why_ you are doing something a particular way. \n",
    "\n",
    "Instead, focus on using function names, parameter names, and variable names that accurately describe what they do or represent."
   ]
  },
  {
   "cell_type": "markdown",
   "metadata": {},
   "source": [
    "## Examples of a function with a decreasing amount of description"
   ]
  },
  {
   "cell_type": "markdown",
   "metadata": {
    "tags": []
   },
   "source": [
    "### Function signature, type hints, and doc string\n",
    "\n",
    "```python\n",
    "def vector_add(v1: list[float], v2: list[float]) -> list[float]:\n",
    "    \"\"\"\n",
    "    Returns a list representing the vector sum of the lists 'v1' and 'v2'.\n",
    "    Both 'v1' and 'v2' must be the same length and must contain only numbers,\n",
    "    either float or int.\n",
    "    \"\"\"\n",
    "    v_result = []\n",
    "    for idx, item in enumerate(v1):\n",
    "        new_item = item + v2[idx]\n",
    "        v_result.append(new_item)\n",
    "    return v_result\n",
    "```"
   ]
  },
  {
   "cell_type": "markdown",
   "metadata": {},
   "source": [
    "### No doc string, partial type hints\n",
    "\n",
    "```python\n",
    "def vector_add(v1: list, v2: list) -> list:\n",
    "    v_result = []\n",
    "    for idx, item in enumerate(v1):\n",
    "        new_item = item + v2[idx]\n",
    "        v_result.append(new_item)\n",
    "    return v_result\n",
    "```"
   ]
  },
  {
   "cell_type": "markdown",
   "metadata": {},
   "source": [
    "### No doc string and no type hints\n",
    "\n",
    "```python\n",
    "def vector_add(v1, v2):\n",
    "    v_result = []\n",
    "    for idx, item in enumerate(v1):\n",
    "        new_item = item + v2[idx]\n",
    "        v_result.append(new_item)\n",
    "    return v_result\n",
    "```"
   ]
  },
  {
   "cell_type": "markdown",
   "metadata": {},
   "source": [
    "### Poor function signature, no doc string, no type hints\n",
    "\n",
    "```python\n",
    "def add(v1, v2):\n",
    "    v_result = []\n",
    "    for idx, item in enumerate(v1):\n",
    "        new_item = item + v2[idx]\n",
    "        v_result.append(new_item)\n",
    "    return v_result\n",
    "```"
   ]
  },
  {
   "cell_type": "markdown",
   "metadata": {},
   "source": [
    "### Terible function signature, no doc string, no type hints, and non-meaningful variable names\n",
    "\n",
    "But it \"works\"\n",
    "\n",
    "```python\n",
    "def a(x, y):\n",
    "    v = []\n",
    "    for i, j in enumerate(x):\n",
    "        v.append(j + y[i])\n",
    "    return v\n",
    "```"
   ]
  },
  {
   "cell_type": "markdown",
   "metadata": {
    "tags": []
   },
   "source": [
    "# How to Validate Functions - Automated Testing\n",
    "\n",
    "How do you know if your function is giving you the correct outputs? How do you know there are no mistakes?\n",
    "\n",
    "This is what testing is for.\n",
    "\n",
    "> The most common way of testing code is to just run it and see if the output is what is expected.\n",
    "\n",
    "However, it would be more efficient to run **multiple** input scenarios and check to make sure that each of the outputs are correct.\n",
    "\n",
    "If you are just testing casually, you are not being rigorous. \n",
    "\n",
    "If you are just testing casually, you have to continually type in your casual tests every time you update a function implementation!\n",
    "\n",
    "Would it not be better to automate this process?"
   ]
  },
  {
   "attachments": {
    "7c321f9f-684c-4251-b8db-3fc442e54bdb.png": {
     "image/png": "[encoded data removed]"
    }
   },
   "cell_type": "markdown",
   "metadata": {},
   "source": [
    "![image.png](attachment:7c321f9f-684c-4251-b8db-3fc442e54bdb.png)"
   ]
  },
  {
   "cell_type": "markdown",
   "metadata": {
    "tags": []
   },
   "source": [
    "## Using `pytest` and `ipytest`\n",
    "\n",
    "The most popular and powerful testing framework in Python is called `pytest`.\n",
    "\n",
    "Here is a function:\n",
    "\n",
    "```python\n",
    "def loud_string(s: str) -> str:\n",
    "    \"\"\"Returns the string, 's', as uppercase and with an exclamation point at the end.\"\"\"\n",
    "    loud = f\"{s.upper()}!\"\n",
    "    return loud\n",
    "```\n",
    "\n",
    "And here is a function that tests our above function:\n",
    "\n",
    "```python\n",
    "def test_load_string(): # The basic test takes no arguments\n",
    "    assert loud_string('hello') == \"HELLO!\"\n",
    "    assert loud_string('') == '!' # Test case for an empty string\n",
    "    assert loud_string('123') == '123!' # Test case for no letters\n",
    "```\n",
    "\n",
    "> `assert` is a statement that does nothing if the expression following it evaluates to `True`. It raises an `AssertionError` if the expression evaluates to `False`\n",
    "\n",
    "**pytest uses these test functions to test your code**"
   ]
  },
  {
   "cell_type": "code",
   "execution_count": null,
   "metadata": {},
   "outputs": [],
   "source": []
  },
  {
   "cell_type": "markdown",
   "metadata": {},
   "source": [
    "### Using pytest in JupyterLab: `ipytest`"
   ]
  },
  {
   "cell_type": "markdown",
   "metadata": {},
   "source": [
    "Pytest is commonly used as a command line utility.\n",
    "\n",
    "To use pytest within Jupyter, we use `ipytest`.\n",
    "\n",
    "Because we have already installed `ipytest`, we can just import it into a notebook and run the `autoconfig()`:\n",
    "\n",
    "```python\n",
    "import ipytest\n",
    "ipytest.autoconfig()\n",
    "```"
   ]
  },
  {
   "cell_type": "code",
   "execution_count": null,
   "metadata": {},
   "outputs": [],
   "source": []
  },
  {
   "cell_type": "markdown",
   "metadata": {},
   "source": [
    "# An Example\n",
    "\n",
    "Here is an example for a function that adds numbers in two lists together as though they were a vector.\n",
    "\n",
    "We will write a test to validate the function result for adding two lists of `float` (with positive and negative values) and two empty lists.\n",
    "\n",
    "```python\n",
    "def vector_add(v1: list[float], v2: list[float]) -> list[float]:\n",
    "    \"\"\"\n",
    "    Returns a list representing the vector sum of the lists 'v1' and 'v2'.\n",
    "    Both 'v1' and 'v2' must be the same length and must contain only numbers,\n",
    "    either float or int.\n",
    "    \"\"\"\n",
    "    v_result = []\n",
    "    for idx, item in enumerate(v1):\n",
    "        new_item = item + v2[idx]\n",
    "        v_result.append(new_item)\n",
    "    return v_result\n",
    "\n",
    "\n",
    "def test_vector_add():\n",
    "    assert vector_add([1., 2., 3.], [-1., 1., -1.]) == [0., 3., 2.]\n",
    "    assert vector_add([], []) == [] # Test the empty lists\n",
    "    \n",
    "ipytest.run()\n",
    "```\n",
    "\n",
    "Have we tested everything we need to test?"
   ]
  },
  {
   "cell_type": "code",
   "execution_count": null,
   "metadata": {},
   "outputs": [],
   "source": []
  },
  {
   "cell_type": "markdown",
   "metadata": {},
   "source": [
    "# Try writing some functions (with tests)!"
   ]
  },
  {
   "cell_type": "markdown",
   "metadata": {},
   "source": [
    "## 1. Create a rectangle from width and depth\n",
    "\n",
    "Design a function that takes two parameters:\n",
    "1. `b`, the width of a rectangle\n",
    "2. `d`, the depth of a rectangle\n",
    "\n",
    "The function will return a tuples of four (x, y) coordinates. These coordinates will be the `(min_x`, `min_y`, `max_x`, `max_y)` points of the rectangle.\n",
    "\n",
    "Write tests for the function. The tests should include:\n",
    "1. A rectangle with a positive width/depth\n",
    "2. A rectangle with a negative width/depth\n",
    "3. A rectangle with a zero width and zero depth"
   ]
  },
  {
   "cell_type": "code",
   "execution_count": 3,
   "metadata": {},
   "outputs": [],
   "source": [
    "def create_rectangle(b:float,d:float) -> list[tuple]:\n",
    "    \"\"\"\n",
    "    Returns a list of (x.y) coordinates that represent the corner points of a rectangle of\n",
    "    width 'b' & depth 'd'. The coordinates represents the (min_x, min_y, max_x, max_y).\n",
    "    \"\"\"\n",
    "    min_x = 0\n",
    "    min_y = 0\n",
    "    max_x = b\n",
    "    max_y = d\n",
    "    return (min_x, min_y, max_x, max_y)\n",
    "    "
   ]
  },
  {
   "cell_type": "code",
   "execution_count": 4,
   "metadata": {},
   "outputs": [
    {
     "data": {
      "text/plain": [
       "(0, 0, 200, 500)"
      ]
     },
     "execution_count": 4,
     "metadata": {},
     "output_type": "execute_result"
    }
   ],
   "source": [
    "create_rectangle (200,500)"
   ]
  },
  {
   "cell_type": "markdown",
   "metadata": {},
   "source": [
    "## 2. Alter size of rectangle\n",
    "\n",
    "Design a function that takes two parameters:\n",
    "\n",
    "1. A tuple representing the coordinates of a rectangle as described by `(min_x, min_y, max_x, max_y)`\n",
    "2. A float which represents the offset by which to expand or contract our rectangle by\n",
    "\n",
    "The function is to return a `tuple` representing the rectangle expanded or contracted, both from left and right, top and bottom equally by the amount of the offset.\n",
    "\n",
    "Your test cases should include: \n",
    "1. A test for a positive offset (expansion by the same distance on all sides)\n",
    "2. A test for a negative offset (contraction by the same distance on all sides)\n",
    "3. A test for zero offset"
   ]
  },
  {
   "cell_type": "code",
   "execution_count": 20,
   "metadata": {},
   "outputs": [],
   "source": [
    "def resize_rectangle(coordinates:tuple[float], offset:float) -> tuple:\n",
    "    \"\"\"\n",
    "    Returns an adjusted list of (x,y) coordinates that represent the corner points of a rectangle of.\n",
    "    The coordinates represents the (min_x, min_y, max_x, max_y).\n",
    "    \"\"\"\n",
    "    min_x = coordinates[0] - offset\n",
    "    min_y = coordinates[1] - offset\n",
    "    max_x = coordinates[2] + offset\n",
    "    max_y = coordinates[3] + offset\n",
    "    return (min_x, min_y, max_x, max_y)\n",
    "    "
   ]
  },
  {
   "cell_type": "code",
   "execution_count": 21,
   "metadata": {
    "tags": []
   },
   "outputs": [
    {
     "data": {
      "text/plain": [
       "(-5, -5, 205, 505)"
      ]
     },
     "execution_count": 21,
     "metadata": {},
     "output_type": "execute_result"
    }
   ],
   "source": [
    "resize_rectangle((0,0,200,500), 5)"
   ]
  },
  {
   "cell_type": "markdown",
   "metadata": {},
   "source": [
    "## 3. Midpoint of a line segment\n",
    "\n",
    "Design a function that takes two parameters:\n",
    " 1. `p1` a tuple of an (x, y) coordinate representing the start point of a line segment\n",
    " 2. `p2` a tuple of an (x, y) coordinate representing the end point of a line segment\n",
    " \n",
    "Your function is to return a `tuple` of an (x, y) coordinate which represents the calculated mid-point of the line segment.\n",
    "\n",
    "Your tests cases should include:\n",
    "\n",
    "1. A test for when `p1` is to the left and down of `p2`\n",
    "2. A test for when `p1` is to the right and up of `p2`\n",
    "4. A test where the start point and end point are the same"
   ]
  },
  {
   "cell_type": "code",
   "execution_count": 23,
   "metadata": {},
   "outputs": [],
   "source": [
    "def midpoint_line(start:tuple[float], end:tuple[float]) -> tuple[float]:\n",
    "    \"\"\"\n",
    "    Returns an (x,y) coordinates that represent the midpoint of the line segment.\n",
    "    \"\"\"\n",
    "    mid_x = (start[0] + end[0])/2\n",
    "    mid_y = (start[1] + end[1])/2\n",
    "    return (mid_x, mid_y)"
   ]
  },
  {
   "cell_type": "code",
   "execution_count": null,
   "metadata": {},
   "outputs": [],
   "source": []
  },
  {
   "cell_type": "markdown",
   "metadata": {},
   "source": [
    "## 4. Reinforced concrete beam section with three bars\n",
    "\n",
    "Using the functions you have written in **1.**, **2.**, and **3.** as \"helper\" functions, design a function that takes the following parameters:\n",
    "\n",
    "1. Width of a rectangular concrete section\n",
    "2. Depth of a rectangular concrete section\n",
    "3. A float representing the concrete clear cover\n",
    "4. The diameter of a round reinforcing bar\n",
    "\n",
    "The function is going to return a `list` of three tuples, each tuple being an (x, y) coordinate which represents the centroid of a round reinforcing bar that has been placed in the concrete outline with the proper clear cover at the _bottom_ of the concrete section (like a beam).\n",
    "\n",
    "Your test cases should include:\n",
    "\n",
    "1. One concrete section with reinforcing bars"
   ]
  },
  {
   "cell_type": "code",
   "execution_count": 26,
   "metadata": {},
   "outputs": [],
   "source": [
    "def centroid_bars(width:float, depth:float, cover:float, bar_diameter:float) -> list[tuple[float]]:\n",
    "    \"\"\"\n",
    "    Returns a list of (x,y) coordinates that represents the centroid of round rebars with cover at bottom\n",
    "    of the concrete section.\n",
    "    \"\"\"\n",
    "    clear_cover = cover - bar_diameter/2\n",
    "    x_1 = clear_cover + bar_diameter/2\n",
    "    x_2 = width/2\n",
    "    x_3 = width - clear_cover - bar_diameter/2\n",
    "    y = depth - clear_cover - bar_diameter/2\n",
    "    return [(x_1, y),(x_2, y),(x_3, y)]"
   ]
  },
  {
   "cell_type": "code",
   "execution_count": null,
   "metadata": {},
   "outputs": [],
   "source": []
  }
 ],
 "metadata": {
  "kernelspec": {
   "display_name": "Python 3 (ipykernel)",
   "language": "python",
   "name": "python3"
  },
  "language_info": {
   "codemirror_mode": {
    "name": "ipython",
    "version": 3
   },
   "file_extension": ".py",
   "mimetype": "text/x-python",
   "name": "python",
   "nbconvert_exporter": "python",
   "pygments_lexer": "ipython3",
   "version": "3.9.12"
  }
 },
 "nbformat": 4,
 "nbformat_minor": 4
}
