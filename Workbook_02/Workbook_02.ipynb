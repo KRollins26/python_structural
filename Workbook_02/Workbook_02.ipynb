{
 "cells": [
  {
   "cell_type": "code",
   "execution_count": 2,
   "id": "72bdb903-9877-46a7-a320-183c813dd6aa",
   "metadata": {},
   "outputs": [],
   "source": [
    "from sympy.physics.continuum_mechanics.beam import Beam\n",
    "from sympy import symbols"
   ]
  },
  {
   "cell_type": "markdown",
   "id": "f54dc2e3-fcb7-4506-ab0e-c8db04c2a962",
   "metadata": {
    "tags": []
   },
   "source": [
    "# 👩‍💻 Workbook 02: String and list manipulation\n",
    "\n",
    "This workbook is about learning how to manually manipulate string data that is read from files.\n",
    "\n",
    "To do this, you will be reading data from two files: \"beam_1.txt\" and \"beam_2.txt\".\n",
    "\n",
    "The file format of each text file is as follows.\n",
    "\n",
    "Values shown in square brackets `[]` are NOT lists. They represent optional data and may or may not appear in the file.\n",
    "\n",
    "```python\n",
    "Length, [E, I] # Line 0\n",
    "Support locations # Line 1\n",
    "Load Magnitude, Load Start, Load Order, [Load End] # Line 2\n",
    "Load Magnitude, Load Start, Load Order, [Load End] # Line 3 ...\n",
    "... # etc.\n",
    "```\n",
    "\n",
    "All the lines below the first two lines will be **loads**. There can be zero, one, or many lines of loads.\n"
   ]
  },
  {
   "cell_type": "markdown",
   "id": "5a53a756-bc82-487d-a0f3-ca42608085fe",
   "metadata": {},
   "source": [
    "## New skill with sympy Beam: Plotting beam diagrams\n",
    "\n",
    "Using the sympy `Beam` module, you can actually plot beam diagrams to see your loads. Here is an example:\n",
    "\n",
    "```python\n",
    "E, I = symbols(\"E I\")\n",
    "R1, R2 = symbols(\"R1 R2\")\n",
    "length = 12\n",
    "my_beam = Beam(length, E, I)\n",
    "my_beam.apply_load(R1, 2, -1)\n",
    "my_beam.apply_load(R2, 9, -1)\n",
    "my_beam.apply_load(20, 0, 0, 6)\n",
    "my_beam.apply_load(24/length, 6, 1)\n",
    "\n",
    "my_beam_plot = my_beam.draw() # Create \"beam plot\"\n",
    "my_beam_plot.show() # Show the beam plot\n",
    "\n",
    "my_beam.solve_for_reaction_loads(R1, R2) # Solving as per previous week\n",
    "my_beam.plot_shear_force() # Plotting shear force, etc. as per previous week\n",
    "```\n",
    "\n",
    "### Copy and paste the code above into the cell below to see how it works\n",
    "\n",
    "Note: Currently, sympy beam cannot plot beams with UDL/ramp load reactions"
   ]
  },
  {
   "cell_type": "code",
   "execution_count": null,
   "id": "31ecd88d-04a5-495c-8dc0-e257567e09a1",
   "metadata": {},
   "outputs": [],
   "source": []
  },
  {
   "cell_type": "markdown",
   "id": "f5c44721-63e5-4780-99a4-6fa40901d6ed",
   "metadata": {
    "jp-MarkdownHeadingCollapsed": true,
    "tags": []
   },
   "source": [
    "## Task A\n",
    "\n",
    "Use the \"file opening\" template to open the file, \"beam_1.txt\". Assign the `file.read()` data to a variable named `beam_1_data`. Use `print()` to print `beam_1_data` to the notebook.\n",
    "\n",
    "Review the description of the file format above and mentally identify each piece of data in the file with what it represents in the description of the file format.\n",
    "\n",
    "Do the same with \"beam_2.txt\", except with a variable called `beam_2_data`, after you print it to the notebook, also."
   ]
  },
  {
   "cell_type": "markdown",
   "id": "19aa1c43-12d4-45c8-bd77-bce104bd644c",
   "metadata": {},
   "source": [
    "## Task A response"
   ]
  },
  {
   "cell_type": "code",
   "execution_count": null,
   "id": "c59e694a-b8b9-4d94-9d56-71cf208f4f83",
   "metadata": {},
   "outputs": [],
   "source": []
  },
  {
   "cell_type": "markdown",
   "id": "71243b7c-2b2f-49f3-bed3-879cb7f46021",
   "metadata": {},
   "source": [
    "# Task B"
   ]
  },
  {
   "cell_type": "markdown",
   "id": "04fdbbeb-6cae-4870-9839-62be15de69a0",
   "metadata": {},
   "source": [
    "Use `.split()` to split the string in `beam_1_data` into separate lines. Access each line in the resulting list by using indexing and print each line to the notebook separately.\n",
    "\n",
    "Following that, if you see that any of the lines in the list is a string with comma-separated values, split those values up into another list by splitting that line with `.split()` using the appropriate character sequence."
   ]
  },
  {
   "cell_type": "markdown",
   "id": "53cbd8ee-59e9-4061-a171-08b31c2a7259",
   "metadata": {},
   "source": [
    "## Task B response"
   ]
  },
  {
   "cell_type": "code",
   "execution_count": null,
   "id": "6db68086-f2c6-4830-a84a-6a6825e7969c",
   "metadata": {},
   "outputs": [],
   "source": []
  },
  {
   "cell_type": "markdown",
   "id": "b2d4abb1-abe5-408c-98ae-230cb9257c85",
   "metadata": {},
   "source": [
    "# Task C\n",
    "\n",
    "Using a combination of splitting and indexing, assign each piece of data in the file to an appropriately named variable.\n",
    "\n",
    "For example, you might extract the length from the file and assign it to a variable called `length`. \n",
    "\n",
    "If there are two support locations, they could be `support_location_1` and `support_location_2`, etc.\n",
    "\n",
    "Try reducing the amount you have to type by assigning intermediary values (e.g. the list of split lines) to intermediary variable names.\n",
    "\n",
    "Check the type of your variables by printing the result of `type(<variable_name>)`. Are your \"numbers\" numbers?\n",
    "\n",
    "You can convert strings of integers to actual integers by using the `int()` function. \n",
    "\n",
    "e.g. \n",
    "```python\n",
    "length = int(length)\n",
    "```\n"
   ]
  },
  {
   "cell_type": "markdown",
   "id": "a5f79e8d-66ca-4ee2-95ab-fc66f969f4c2",
   "metadata": {},
   "source": [
    "## Task C response"
   ]
  },
  {
   "cell_type": "code",
   "execution_count": null,
   "id": "27a0d8ea-7fbf-4ac6-9d86-689ecc478cb0",
   "metadata": {},
   "outputs": [],
   "source": []
  },
  {
   "cell_type": "markdown",
   "id": "9dc9a70d-56cc-4343-83c1-ff5bda9c04c6",
   "metadata": {
    "tags": []
   },
   "source": [
    "# Task D\n",
    "\n",
    "By combining the work you have done in the cells above, copy-and-paste them into the cell below to create the beginning of a script to read beam data from a text file and then create a `Beam` object with `sympy`.\n",
    "\n",
    "Feel free to refer back to your Workbook 01 and the sympy beam reference guide.\n",
    "\n",
    "Putting it all together, you will be performing the following:\n",
    "\n",
    "1. Read the contents of the file using `.read()` and store the resulting string in a variable called `beam_1_data`.\n",
    "2. Using the information about the file format described above, use string methods, list methods, and indexing to extract data from the file. Create the following variables:\n",
    "* `length`\n",
    "* `E`\n",
    "* `I`\n",
    "    * If `E` and `I` are not in the file, create and assign `E` and `I` as sympy symbols.\n",
    "* Supports\n",
    "    * Create separate variables for each support location, e.g. `support_location_1`, `support_location_2`, etc.\n",
    "    * `support_location_...`\n",
    "* Loads\n",
    "    * Create separate variables for each load, e.g. `load_magnitude_1`, `load_magnitude_2`, etc.\n",
    "    * `load_magnitude_...`\n",
    "    * `load_start_...`\n",
    "    * `load_order_...`\n",
    "    * `load_end_...` (if applicable)\n",
    "\n",
    "3. Create a new `Beam` object using the variables containing the data you read from the file. **Assume all supports are vertical point loads supports.** _Remember_, in addition to creating a sympy `symbol` for each unknown, you will also need to create a `.bc_deflection` list of restraints (refer to your Workbook 01 and the sympy beams reference guide).\n",
    "\n",
    "4. Solve the `Beam` for reaction loads. Print reaction loads, plot the shear force and bending moment diagrams. If `E` and `I` are in the file, also plot the displacement."
   ]
  },
  {
   "cell_type": "markdown",
   "id": "cdcf9392-9cd8-44ba-8a16-7dbc7a06b45b",
   "metadata": {},
   "source": [
    "## Task D Response"
   ]
  },
  {
   "cell_type": "code",
   "execution_count": null,
   "id": "ad14cea9-d291-4c62-8f97-3f3beb0bfc53",
   "metadata": {},
   "outputs": [],
   "source": []
  },
  {
   "cell_type": "markdown",
   "id": "a0653be0-e976-4c21-8199-f94bb842795f",
   "metadata": {},
   "source": [
    "# Task E\n",
    "\n",
    "Perform the same instructions from **Task 1** with \"beam_2.txt\" except call your variable `beam_2_data`."
   ]
  },
  {
   "cell_type": "markdown",
   "id": "330efa06-3640-4a59-9092-2438917e5e10",
   "metadata": {},
   "source": [
    "## Task E response"
   ]
  },
  {
   "cell_type": "code",
   "execution_count": null,
   "id": "7033c656-2a25-4324-b45e-d54c2481500b",
   "metadata": {},
   "outputs": [],
   "source": []
  },
  {
   "cell_type": "markdown",
   "id": "fd6a359d-ac05-40a2-bbf9-6c69d1e68162",
   "metadata": {},
   "source": [
    "# Task F\n",
    "\n",
    "1. Make a duplicate of the file \"beam_1.txt\" and call it \"beam_3.txt\". \n",
    "2. Make a duplicate of \"beam_2.txt\" and call it \"beam_4.txt\"\n",
    "3. Rename the title of **Task D Response** to **Beam: Two supports, one load**\n",
    "4. Rename the title of **Task E Response** to **Beam: Three supports, two loads**\n",
    "5. Change some of the values in \"beam_3.txt\" and change your \"Two supports, one load\" script to run the data in \"beam_3.txt\" to see some new results\n",
    "6. Do the same with \"beam_4.txt\" and \"Three supports, two loads\" to see some new results\n",
    "7. Now, try running your \"beam_1.txt\" on your \"Three supports, two loads\" script. Did it work? What happened?\n",
    "8. Try to run your \"beam_4.txt\" on your \"Two supports, one load\". Did it work? What happened?\n",
    "9. Ponder the question: \"Is there some way to write _one_ script that would work with _all_ beam files\"?"
   ]
  },
  {
   "cell_type": "markdown",
   "id": "2baf70f7-2ed4-4c92-b614-f533406a65fe",
   "metadata": {
    "tags": []
   },
   "source": [
    "# 🦸‍ Submit Workbook 02\n",
    "Whew! Congratulations on getting through Workbook 02. Was some of that work repetitive?  Maybe you started asking yourself, \"Is there a better way to do this?\"\n",
    "\n",
    "Well...yes, there is. We will start on that next week.\n",
    "\n",
    "For now, just do a \"commit\" of your workbook and \"push\" it to GitHub!"
   ]
  }
 ],
 "metadata": {
  "kernelspec": {
   "display_name": "Python 3 (ipykernel)",
   "language": "python",
   "name": "python3"
  },
  "language_info": {
   "codemirror_mode": {
    "name": "ipython",
    "version": 3
   },
   "file_extension": ".py",
   "mimetype": "text/x-python",
   "name": "python",
   "nbconvert_exporter": "python",
   "pygments_lexer": "ipython3",
   "version": "3.9.12"
  }
 },
 "nbformat": 4,
 "nbformat_minor": 5
}
