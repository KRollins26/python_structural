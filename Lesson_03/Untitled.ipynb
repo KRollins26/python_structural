{
 "cells": [
  {
   "cell_type": "markdown",
   "id": "eee8f2ab-c73c-455b-a18e-6330202aeebe",
   "metadata": {},
   "source": [
    "# Handcalcs Example"
   ]
  },
  {
   "cell_type": "code",
   "execution_count": 39,
   "id": "c329cf88-5434-401b-bbcc-f402c358a534",
   "metadata": {
    "tags": []
   },
   "outputs": [],
   "source": [
    "import handcalcs.render"
   ]
  },
  {
   "cell_type": "code",
   "execution_count": 40,
   "id": "8aa6dda6-a65c-4d83-ba9e-ff2845cb4dd8",
   "metadata": {
    "tags": []
   },
   "outputs": [],
   "source": [
    "from math import sqrt, sqrt, sin, cos, tan"
   ]
  },
  {
   "cell_type": "code",
   "execution_count": 41,
   "id": "0e95bead-99d0-4bba-b5ef-53615c603d43",
   "metadata": {
    "tags": []
   },
   "outputs": [
    {
     "data": {
      "text/latex": [
       "\\[\n",
       "\\begin{aligned}\n",
       "\\phi &= 0.65 \\; \n",
       "\\\\[10pt]\n",
       "f'_{c} &= 35 \\; \n",
       "\\\\[10pt]\n",
       "\\beta &= 0.18 \\; \n",
       "\\\\[10pt]\n",
       "b_{w} &= 300 \\; \n",
       "\\\\[10pt]\n",
       "d_{v} &= 520 \\; \n",
       "\\\\[10pt]\n",
       "V_{c} &= \\left( \\phi \\cdot \\beta \\cdot \\sqrt { f'_{c} } \\cdot b_{w} \\cdot d_{v} \\right) ^{ 2 } \\\\&= \\left( 0.65 \\cdot 0.18 \\cdot \\sqrt { 35 } \\cdot 300 \\cdot 520 \\right) ^{ 2 } \\\\&= 11659742640.00  \\\\[10pt]\n",
       "\\end{aligned}\n",
       "\\]"
      ],
      "text/plain": [
       "<IPython.core.display.Latex object>"
      ]
     },
     "metadata": {},
     "output_type": "display_data"
    }
   ],
   "source": [
    "%%render long 2\n",
    "phi = 0.65\n",
    "f_prime_c = 35\n",
    "beta = 0.18\n",
    "b_w = 300\n",
    "d_v = 520\n",
    "V_c = (phi * beta * sqrt(f_prime_c) * b_w * d_v)**2"
   ]
  },
  {
   "cell_type": "code",
   "execution_count": null,
   "id": "9bda9806-b85e-4dd0-9720-fb9537372d10",
   "metadata": {},
   "outputs": [],
   "source": []
  }
 ],
 "metadata": {
  "kernelspec": {
   "display_name": "Python 3 (ipykernel)",
   "language": "python",
   "name": "python3"
  },
  "language_info": {
   "codemirror_mode": {
    "name": "ipython",
    "version": 3
   },
   "file_extension": ".py",
   "mimetype": "text/x-python",
   "name": "python",
   "nbconvert_exporter": "python",
   "pygments_lexer": "ipython3",
   "version": "3.9.12"
  }
 },
 "nbformat": 4,
 "nbformat_minor": 5
}
