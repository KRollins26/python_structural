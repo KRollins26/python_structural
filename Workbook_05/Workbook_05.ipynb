{
 "cells": [
  {
   "cell_type": "code",
   "execution_count": 1,
   "id": "aa6ce34c-00ea-482b-9786-0e6d99ae9ea7",
   "metadata": {},
   "outputs": [],
   "source": [
    "from rich import inspect, print"
   ]
  },
  {
   "cell_type": "code",
   "execution_count": 2,
   "id": "0a7a3cae-987a-4eff-b6c4-393e404d4b9f",
   "metadata": {},
   "outputs": [],
   "source": [
    "import csv\n",
    "from sympy.physics.continuum_mechanics.beam import Beam\n",
    "from sympy.core.symbol import Symbol\n",
    "from sympy import symbols\n",
    "\n",
    "import pytest\n"
   ]
  },
  {
   "cell_type": "code",
   "execution_count": null,
   "id": "08d76dc4-06ff-451a-8356-e5c2f742d723",
   "metadata": {},
   "outputs": [],
   "source": []
  },
  {
   "cell_type": "markdown",
   "id": "bbfe4297-a6a3-4348-9a07-f5b59ad1ce2c",
   "metadata": {
    "tags": []
   },
   "source": [
    "# 🧩 Workbook 05"
   ]
  },
  {
   "cell_type": "markdown",
   "id": "2a123dc4-f0b0-429d-92f5-f47f7fc79817",
   "metadata": {
    "jp-MarkdownHeadingCollapsed": true,
    "tags": []
   },
   "source": [
    "This week we are augmenting the file format again. It now looks like this:\n",
    "\n",
    "<pre>\n",
    "<b>Beam name</b>\n",
    "Length, [E, I]\n",
    "P, pin support locations (comma separated)\n",
    "F, fixed support locations (comma separated)\n",
    "Load Magnitude, Load Start, Load Order, [Load End]\n",
    "Load Magnitude, Load Start, Load Order, [Load End]\n",
    "\n",
    "<b>Beam name</b>\n",
    "Length, [E, I]\n",
    "P, pin support locations (comma separated)\n",
    "F, fixed support locations (comma separated)\n",
    "Load Magnitude, Load Start, Load Order, [Load End]\n",
    "Load Magnitude, Load Start, Load Order, [Load End]\n",
    "\n",
    "...etc.\n",
    "</pre>\n",
    "Here is an example of what the format looks like with real data:\n",
    "\n",
    "```\n",
    "RoofBeam1\n",
    "168,3850,42\n",
    "P,0,168\n",
    "120,0,0\n",
    "240,0,0\n",
    "              # Note the blank line between beam data remains\n",
    "SteelBeam34\n",
    "142,47000,4200\n",
    "P,0,120\n",
    "F,0\n",
    "120,0,0\n",
    "240,0,0\n",
    "```\n",
    "\n",
    "Everything is the same as last week. The only change is that there is now a **beam name** added for which we are going to use a new data type: `dict` instead of `list`. \n",
    "\n",
    "With `list` we referenced each beam in the file with its index. By using `dict` we can reference each beam _by its name_!\n",
    "\n",
    "### A note about code re-use\n",
    "\n",
    "As you have noticed in this course, there has been opportunity for code re-use from previous workbooks. I encourage you to review your past workbooks and re-use code (like, copy-paste) when you can!"
   ]
  },
  {
   "cell_type": "markdown",
   "id": "6d75bc4f-2abd-492f-a346-1dea607b9af8",
   "metadata": {},
   "source": [
    "# Task A\n",
    "\n",
    "Design a function called `read_beams_file` that takes one parameter, a `str` called `filename`, and returns a list of list of string (`list[list[str]]`) representing the lines of data in the file. \n",
    "\n",
    "As you are working on your function, be sure to constantly try calling your function to see what the output is, just like you did with running your cells in the previous workbooks. Always print, print, print so you can see what your code is doing!\n",
    "\n",
    "Write a test for `read_beams_file` and use two `assert` statements to verify that at least two separate lines in the file match the data you expect."
   ]
  },
  {
   "cell_type": "markdown",
   "id": "e8908e1a-a43b-4f72-a5fc-e8354287dbc6",
   "metadata": {},
   "source": [
    "## Task A response"
   ]
  },
  {
   "cell_type": "code",
   "execution_count": 3,
   "id": "af74a108-c239-4ab1-b8c4-559503eeb2a6",
   "metadata": {},
   "outputs": [],
   "source": [
    "def read_beams_file (file_name: str) -> list[list[str]]:\n",
    "    \"\"\"\n",
    "    Returns a list of list of string that represents lines of data in the file\n",
    "    \"\"\"\n",
    "    beam_acc = []\n",
    "    with open (file_name, 'r') as csv_file:\n",
    "        csv_reader = csv.reader(csv_file)\n",
    "        for line in csv_reader:\n",
    "            beam_acc.append(line)\n",
    "    return (beam_acc)\n",
    "    \n",
    "def test_read_beams_file():\n",
    "    assert read_beams_file(\"beams.txt\")[0] == [\"RB1\"]\n",
    "    assert read_beams_file(\"beams.txt\")[1] == ['4800', '19200', '1000000']"
   ]
  },
  {
   "cell_type": "markdown",
   "id": "16c3fed5-5462-4466-bba6-b1bd46ebb2ea",
   "metadata": {},
   "source": [
    "## Task A tests"
   ]
  },
  {
   "cell_type": "code",
   "execution_count": 4,
   "id": "99a2a550-ff27-45d4-95cc-c83b84a4f8af",
   "metadata": {},
   "outputs": [
    {
     "data": {
      "text/plain": [
       "[['RB1'],\n",
       " ['4800', '19200', '1000000'],\n",
       " ['P', '3600'],\n",
       " ['F', '0'],\n",
       " ['100', '2000', '0'],\n",
       " [],\n",
       " ['FB45'],\n",
       " ['228', '28000', '8000'],\n",
       " ['P', '63', '100', '200'],\n",
       " ['150', '0', '0'],\n",
       " ['350', '0', '0'],\n",
       " [],\n",
       " ['ConcBeam1'],\n",
       " ['9000', '35000', '1000000000'],\n",
       " ['F', '1000'],\n",
       " ['P', '9000'],\n",
       " ['12', '0', '0'],\n",
       " ['24', '0', '0']]"
      ]
     },
     "execution_count": 4,
     "metadata": {},
     "output_type": "execute_result"
    }
   ],
   "source": [
    "read_beams_file(\"beams.txt\")\n",
    "\n"
   ]
  },
  {
   "cell_type": "code",
   "execution_count": 5,
   "id": "02ac554e-7e3a-42e5-ac63-4c1a2cdb1162",
   "metadata": {
    "tags": []
   },
   "outputs": [],
   "source": [
    "test_read_beams_file()"
   ]
  },
  {
   "cell_type": "markdown",
   "id": "5eca1c54-d2f9-4da8-a53d-c50fd04d9ce6",
   "metadata": {},
   "source": [
    "# Task B\n",
    "\n",
    "Design a function called `convert_to_int` that takes one parameter, a `list[list[str]]`, and returns a `list[list[str, int]` (which means a list of lists that can contain a combination of `str` and `int`).\n",
    "\n",
    "The function is to convert all numeric strings into integers but leave all non-numeric strings as strings.\n",
    "\n",
    "Write a test for `convert_to_int` that will test the following input scenarios (each have their own `assert` line):\n",
    "1. A line with both a str and an int\n",
    "2. A line with all str\n",
    "3. A line with postive and negative integers"
   ]
  },
  {
   "cell_type": "markdown",
   "id": "854f7278-bf52-4171-9a96-181d5dc3e163",
   "metadata": {},
   "source": [
    "## Task B response"
   ]
  },
  {
   "cell_type": "code",
   "execution_count": 6,
   "id": "25cb49b9-b214-455d-8cae-2897e5e83334",
   "metadata": {},
   "outputs": [],
   "source": [
    "def convert_to_int(beam_data: list[list[str]]) -> list[list[str, int]]:\n",
    "    \"\"\"\n",
    "    The function is to convert all numeric strings into integers but leave all non-numeric strings as strings.\n",
    "    \"\"\"\n",
    "    int_acc = []\n",
    "    for line in beam_data:\n",
    "        inner_list = []\n",
    "        for  data in line:\n",
    "            if data.isnumeric() == True:\n",
    "                inner_list.append(int(data))  \n",
    "            else:\n",
    "                inner_list.append(data)\n",
    "        int_acc.append(inner_list)\n",
    "    return (int_acc)                                                      \n",
    "                                                      "
   ]
  },
  {
   "cell_type": "code",
   "execution_count": 7,
   "id": "14e65a3a-0266-4c72-b43d-4bcf94892bfb",
   "metadata": {},
   "outputs": [
    {
     "data": {
      "text/html": [
       "<pre style=\"white-space:pre;overflow-x:auto;line-height:normal;font-family:Menlo,'DejaVu Sans Mono',consolas,'Courier New',monospace\"><span style=\"font-weight: bold\">[</span>\n",
       "    <span style=\"font-weight: bold\">[</span><span style=\"color: #008000; text-decoration-color: #008000\">'RB1'</span><span style=\"font-weight: bold\">]</span>,\n",
       "    <span style=\"font-weight: bold\">[</span><span style=\"color: #008000; text-decoration-color: #008000\">'4800'</span>, <span style=\"color: #008000; text-decoration-color: #008000\">'19200'</span>, <span style=\"color: #008000; text-decoration-color: #008000\">'1000000'</span><span style=\"font-weight: bold\">]</span>,\n",
       "    <span style=\"font-weight: bold\">[</span><span style=\"color: #008000; text-decoration-color: #008000\">'P'</span>, <span style=\"color: #008000; text-decoration-color: #008000\">'3600'</span><span style=\"font-weight: bold\">]</span>,\n",
       "    <span style=\"font-weight: bold\">[</span><span style=\"color: #008000; text-decoration-color: #008000\">'F'</span>, <span style=\"color: #008000; text-decoration-color: #008000\">'0'</span><span style=\"font-weight: bold\">]</span>,\n",
       "    <span style=\"font-weight: bold\">[</span><span style=\"color: #008000; text-decoration-color: #008000\">'100'</span>, <span style=\"color: #008000; text-decoration-color: #008000\">'2000'</span>, <span style=\"color: #008000; text-decoration-color: #008000\">'0'</span><span style=\"font-weight: bold\">]</span>,\n",
       "    <span style=\"font-weight: bold\">[]</span>,\n",
       "    <span style=\"font-weight: bold\">[</span><span style=\"color: #008000; text-decoration-color: #008000\">'FB45'</span><span style=\"font-weight: bold\">]</span>,\n",
       "    <span style=\"font-weight: bold\">[</span><span style=\"color: #008000; text-decoration-color: #008000\">'228'</span>, <span style=\"color: #008000; text-decoration-color: #008000\">'28000'</span>, <span style=\"color: #008000; text-decoration-color: #008000\">'8000'</span><span style=\"font-weight: bold\">]</span>,\n",
       "    <span style=\"font-weight: bold\">[</span><span style=\"color: #008000; text-decoration-color: #008000\">'P'</span>, <span style=\"color: #008000; text-decoration-color: #008000\">'63'</span>, <span style=\"color: #008000; text-decoration-color: #008000\">'100'</span>, <span style=\"color: #008000; text-decoration-color: #008000\">'200'</span><span style=\"font-weight: bold\">]</span>,\n",
       "    <span style=\"font-weight: bold\">[</span><span style=\"color: #008000; text-decoration-color: #008000\">'150'</span>, <span style=\"color: #008000; text-decoration-color: #008000\">'0'</span>, <span style=\"color: #008000; text-decoration-color: #008000\">'0'</span><span style=\"font-weight: bold\">]</span>,\n",
       "    <span style=\"font-weight: bold\">[</span><span style=\"color: #008000; text-decoration-color: #008000\">'350'</span>, <span style=\"color: #008000; text-decoration-color: #008000\">'0'</span>, <span style=\"color: #008000; text-decoration-color: #008000\">'0'</span><span style=\"font-weight: bold\">]</span>,\n",
       "    <span style=\"font-weight: bold\">[]</span>,\n",
       "    <span style=\"font-weight: bold\">[</span><span style=\"color: #008000; text-decoration-color: #008000\">'ConcBeam1'</span><span style=\"font-weight: bold\">]</span>,\n",
       "    <span style=\"font-weight: bold\">[</span><span style=\"color: #008000; text-decoration-color: #008000\">'9000'</span>, <span style=\"color: #008000; text-decoration-color: #008000\">'35000'</span>, <span style=\"color: #008000; text-decoration-color: #008000\">'1000000000'</span><span style=\"font-weight: bold\">]</span>,\n",
       "    <span style=\"font-weight: bold\">[</span><span style=\"color: #008000; text-decoration-color: #008000\">'F'</span>, <span style=\"color: #008000; text-decoration-color: #008000\">'1000'</span><span style=\"font-weight: bold\">]</span>,\n",
       "    <span style=\"font-weight: bold\">[</span><span style=\"color: #008000; text-decoration-color: #008000\">'P'</span>, <span style=\"color: #008000; text-decoration-color: #008000\">'9000'</span><span style=\"font-weight: bold\">]</span>,\n",
       "    <span style=\"font-weight: bold\">[</span><span style=\"color: #008000; text-decoration-color: #008000\">'12'</span>, <span style=\"color: #008000; text-decoration-color: #008000\">'0'</span>, <span style=\"color: #008000; text-decoration-color: #008000\">'0'</span><span style=\"font-weight: bold\">]</span>,\n",
       "    <span style=\"font-weight: bold\">[</span><span style=\"color: #008000; text-decoration-color: #008000\">'24'</span>, <span style=\"color: #008000; text-decoration-color: #008000\">'0'</span>, <span style=\"color: #008000; text-decoration-color: #008000\">'0'</span><span style=\"font-weight: bold\">]</span>\n",
       "<span style=\"font-weight: bold\">]</span>\n",
       "</pre>\n"
      ],
      "text/plain": [
       "\u001b[1m[\u001b[0m\n",
       "    \u001b[1m[\u001b[0m\u001b[32m'RB1'\u001b[0m\u001b[1m]\u001b[0m,\n",
       "    \u001b[1m[\u001b[0m\u001b[32m'4800'\u001b[0m, \u001b[32m'19200'\u001b[0m, \u001b[32m'1000000'\u001b[0m\u001b[1m]\u001b[0m,\n",
       "    \u001b[1m[\u001b[0m\u001b[32m'P'\u001b[0m, \u001b[32m'3600'\u001b[0m\u001b[1m]\u001b[0m,\n",
       "    \u001b[1m[\u001b[0m\u001b[32m'F'\u001b[0m, \u001b[32m'0'\u001b[0m\u001b[1m]\u001b[0m,\n",
       "    \u001b[1m[\u001b[0m\u001b[32m'100'\u001b[0m, \u001b[32m'2000'\u001b[0m, \u001b[32m'0'\u001b[0m\u001b[1m]\u001b[0m,\n",
       "    \u001b[1m[\u001b[0m\u001b[1m]\u001b[0m,\n",
       "    \u001b[1m[\u001b[0m\u001b[32m'FB45'\u001b[0m\u001b[1m]\u001b[0m,\n",
       "    \u001b[1m[\u001b[0m\u001b[32m'228'\u001b[0m, \u001b[32m'28000'\u001b[0m, \u001b[32m'8000'\u001b[0m\u001b[1m]\u001b[0m,\n",
       "    \u001b[1m[\u001b[0m\u001b[32m'P'\u001b[0m, \u001b[32m'63'\u001b[0m, \u001b[32m'100'\u001b[0m, \u001b[32m'200'\u001b[0m\u001b[1m]\u001b[0m,\n",
       "    \u001b[1m[\u001b[0m\u001b[32m'150'\u001b[0m, \u001b[32m'0'\u001b[0m, \u001b[32m'0'\u001b[0m\u001b[1m]\u001b[0m,\n",
       "    \u001b[1m[\u001b[0m\u001b[32m'350'\u001b[0m, \u001b[32m'0'\u001b[0m, \u001b[32m'0'\u001b[0m\u001b[1m]\u001b[0m,\n",
       "    \u001b[1m[\u001b[0m\u001b[1m]\u001b[0m,\n",
       "    \u001b[1m[\u001b[0m\u001b[32m'ConcBeam1'\u001b[0m\u001b[1m]\u001b[0m,\n",
       "    \u001b[1m[\u001b[0m\u001b[32m'9000'\u001b[0m, \u001b[32m'35000'\u001b[0m, \u001b[32m'1000000000'\u001b[0m\u001b[1m]\u001b[0m,\n",
       "    \u001b[1m[\u001b[0m\u001b[32m'F'\u001b[0m, \u001b[32m'1000'\u001b[0m\u001b[1m]\u001b[0m,\n",
       "    \u001b[1m[\u001b[0m\u001b[32m'P'\u001b[0m, \u001b[32m'9000'\u001b[0m\u001b[1m]\u001b[0m,\n",
       "    \u001b[1m[\u001b[0m\u001b[32m'12'\u001b[0m, \u001b[32m'0'\u001b[0m, \u001b[32m'0'\u001b[0m\u001b[1m]\u001b[0m,\n",
       "    \u001b[1m[\u001b[0m\u001b[32m'24'\u001b[0m, \u001b[32m'0'\u001b[0m, \u001b[32m'0'\u001b[0m\u001b[1m]\u001b[0m\n",
       "\u001b[1m]\u001b[0m\n"
      ]
     },
     "metadata": {},
     "output_type": "display_data"
    }
   ],
   "source": [
    "beam_acc = read_beams_file(\"beams.txt\")\n",
    "print(beam_acc)"
   ]
  },
  {
   "cell_type": "markdown",
   "id": "b98ae33a-52a6-4add-87f1-8779d7b080c1",
   "metadata": {},
   "source": [
    "## Task B tests"
   ]
  },
  {
   "cell_type": "code",
   "execution_count": 8,
   "id": "da669bba-c87f-4333-b68f-f0c25fcd803b",
   "metadata": {},
   "outputs": [],
   "source": [
    "beam_acc_int = convert_to_int(beam_acc)"
   ]
  },
  {
   "cell_type": "code",
   "execution_count": 9,
   "id": "8b8c5b8c-cdee-441f-99dc-492551376b69",
   "metadata": {},
   "outputs": [],
   "source": [
    "def test_read_beams_file():\n",
    "    assert convert_to_int(beam_acc)[0] == [\"RB1\"]\n",
    "    assert convert_to_int(beam_acc)[1] == ['4800', '19200', '1000000']"
   ]
  },
  {
   "cell_type": "markdown",
   "id": "064c4181-7e97-4ddc-9808-99d39b931ade",
   "metadata": {},
   "source": [
    "# Task C\n",
    "\n",
    "Design a function called `separate_beam_data` that takes one parameter, a `list[list[str, int]]` and returns a `dict[str, list[list[str, int]]]` (a dictionary with `str` keys and values of `list[list[str, int]]`).\n",
    "\n",
    "Similar to **Task C** in **Workbook 04**, this function will separate the beam data. However, it will be slightly different than the code in **Task 04/C** in that you will now \"parse\" the name of the beam. The name of the beam will become the dictionary key and, with the resulting dictionary, you will be able to see the beam data by using the beam name as the index.\n",
    "\n",
    "e.g.\n",
    "\n",
    "**Task 04/C** resulted in this:\n",
    "```python\n",
    "beams[1] # Access list index 1 to return the list[list[str, int]]\n",
    "```\n",
    "\n",
    "```\n",
    "[[228, 28000, 756], ['P', 63, 100, 200], [150, 0, 0], [350, 0, 0]]\n",
    "```\n",
    "\n",
    "**Task 05/C** will result in this:\n",
    "```python\n",
    "beams[\"FB45\"]\n",
    "```\n",
    "\n",
    "```\n",
    "[[228, 28000, 756], ['P', 63, 100, 200], [150, 0, 0], [350, 0, 0]]\n",
    "```"
   ]
  },
  {
   "cell_type": "markdown",
   "id": "b835350a-3300-4502-b133-518f18649d05",
   "metadata": {},
   "source": [
    "## Task C response"
   ]
  },
  {
   "cell_type": "code",
   "execution_count": 10,
   "id": "5f30356a-f8f2-4e9f-8de7-42a2e418c63a",
   "metadata": {},
   "outputs": [
    {
     "data": {
      "text/html": [
       "<pre style=\"white-space:pre;overflow-x:auto;line-height:normal;font-family:Menlo,'DejaVu Sans Mono',consolas,'Courier New',monospace\"><span style=\"font-weight: bold\">[</span>\n",
       "    <span style=\"font-weight: bold\">[</span><span style=\"color: #008000; text-decoration-color: #008000\">'RB1'</span><span style=\"font-weight: bold\">]</span>,\n",
       "    <span style=\"font-weight: bold\">[</span><span style=\"color: #008080; text-decoration-color: #008080; font-weight: bold\">4800</span>, <span style=\"color: #008080; text-decoration-color: #008080; font-weight: bold\">19200</span>, <span style=\"color: #008080; text-decoration-color: #008080; font-weight: bold\">1000000</span><span style=\"font-weight: bold\">]</span>,\n",
       "    <span style=\"font-weight: bold\">[</span><span style=\"color: #008000; text-decoration-color: #008000\">'P'</span>, <span style=\"color: #008080; text-decoration-color: #008080; font-weight: bold\">3600</span><span style=\"font-weight: bold\">]</span>,\n",
       "    <span style=\"font-weight: bold\">[</span><span style=\"color: #008000; text-decoration-color: #008000\">'F'</span>, <span style=\"color: #008080; text-decoration-color: #008080; font-weight: bold\">0</span><span style=\"font-weight: bold\">]</span>,\n",
       "    <span style=\"font-weight: bold\">[</span><span style=\"color: #008080; text-decoration-color: #008080; font-weight: bold\">100</span>, <span style=\"color: #008080; text-decoration-color: #008080; font-weight: bold\">2000</span>, <span style=\"color: #008080; text-decoration-color: #008080; font-weight: bold\">0</span><span style=\"font-weight: bold\">]</span>,\n",
       "    <span style=\"font-weight: bold\">[]</span>,\n",
       "    <span style=\"font-weight: bold\">[</span><span style=\"color: #008000; text-decoration-color: #008000\">'FB45'</span><span style=\"font-weight: bold\">]</span>,\n",
       "    <span style=\"font-weight: bold\">[</span><span style=\"color: #008080; text-decoration-color: #008080; font-weight: bold\">228</span>, <span style=\"color: #008080; text-decoration-color: #008080; font-weight: bold\">28000</span>, <span style=\"color: #008080; text-decoration-color: #008080; font-weight: bold\">8000</span><span style=\"font-weight: bold\">]</span>,\n",
       "    <span style=\"font-weight: bold\">[</span><span style=\"color: #008000; text-decoration-color: #008000\">'P'</span>, <span style=\"color: #008080; text-decoration-color: #008080; font-weight: bold\">63</span>, <span style=\"color: #008080; text-decoration-color: #008080; font-weight: bold\">100</span>, <span style=\"color: #008080; text-decoration-color: #008080; font-weight: bold\">200</span><span style=\"font-weight: bold\">]</span>,\n",
       "    <span style=\"font-weight: bold\">[</span><span style=\"color: #008080; text-decoration-color: #008080; font-weight: bold\">150</span>, <span style=\"color: #008080; text-decoration-color: #008080; font-weight: bold\">0</span>, <span style=\"color: #008080; text-decoration-color: #008080; font-weight: bold\">0</span><span style=\"font-weight: bold\">]</span>,\n",
       "    <span style=\"font-weight: bold\">[</span><span style=\"color: #008080; text-decoration-color: #008080; font-weight: bold\">350</span>, <span style=\"color: #008080; text-decoration-color: #008080; font-weight: bold\">0</span>, <span style=\"color: #008080; text-decoration-color: #008080; font-weight: bold\">0</span><span style=\"font-weight: bold\">]</span>,\n",
       "    <span style=\"font-weight: bold\">[]</span>,\n",
       "    <span style=\"font-weight: bold\">[</span><span style=\"color: #008000; text-decoration-color: #008000\">'ConcBeam1'</span><span style=\"font-weight: bold\">]</span>,\n",
       "    <span style=\"font-weight: bold\">[</span><span style=\"color: #008080; text-decoration-color: #008080; font-weight: bold\">9000</span>, <span style=\"color: #008080; text-decoration-color: #008080; font-weight: bold\">35000</span>, <span style=\"color: #008080; text-decoration-color: #008080; font-weight: bold\">1000000000</span><span style=\"font-weight: bold\">]</span>,\n",
       "    <span style=\"font-weight: bold\">[</span><span style=\"color: #008000; text-decoration-color: #008000\">'F'</span>, <span style=\"color: #008080; text-decoration-color: #008080; font-weight: bold\">1000</span><span style=\"font-weight: bold\">]</span>,\n",
       "    <span style=\"font-weight: bold\">[</span><span style=\"color: #008000; text-decoration-color: #008000\">'P'</span>, <span style=\"color: #008080; text-decoration-color: #008080; font-weight: bold\">9000</span><span style=\"font-weight: bold\">]</span>,\n",
       "    <span style=\"font-weight: bold\">[</span><span style=\"color: #008080; text-decoration-color: #008080; font-weight: bold\">12</span>, <span style=\"color: #008080; text-decoration-color: #008080; font-weight: bold\">0</span>, <span style=\"color: #008080; text-decoration-color: #008080; font-weight: bold\">0</span><span style=\"font-weight: bold\">]</span>,\n",
       "    <span style=\"font-weight: bold\">[</span><span style=\"color: #008080; text-decoration-color: #008080; font-weight: bold\">24</span>, <span style=\"color: #008080; text-decoration-color: #008080; font-weight: bold\">0</span>, <span style=\"color: #008080; text-decoration-color: #008080; font-weight: bold\">0</span><span style=\"font-weight: bold\">]</span>\n",
       "<span style=\"font-weight: bold\">]</span>\n",
       "</pre>\n"
      ],
      "text/plain": [
       "\u001b[1m[\u001b[0m\n",
       "    \u001b[1m[\u001b[0m\u001b[32m'RB1'\u001b[0m\u001b[1m]\u001b[0m,\n",
       "    \u001b[1m[\u001b[0m\u001b[1;36m4800\u001b[0m, \u001b[1;36m19200\u001b[0m, \u001b[1;36m1000000\u001b[0m\u001b[1m]\u001b[0m,\n",
       "    \u001b[1m[\u001b[0m\u001b[32m'P'\u001b[0m, \u001b[1;36m3600\u001b[0m\u001b[1m]\u001b[0m,\n",
       "    \u001b[1m[\u001b[0m\u001b[32m'F'\u001b[0m, \u001b[1;36m0\u001b[0m\u001b[1m]\u001b[0m,\n",
       "    \u001b[1m[\u001b[0m\u001b[1;36m100\u001b[0m, \u001b[1;36m2000\u001b[0m, \u001b[1;36m0\u001b[0m\u001b[1m]\u001b[0m,\n",
       "    \u001b[1m[\u001b[0m\u001b[1m]\u001b[0m,\n",
       "    \u001b[1m[\u001b[0m\u001b[32m'FB45'\u001b[0m\u001b[1m]\u001b[0m,\n",
       "    \u001b[1m[\u001b[0m\u001b[1;36m228\u001b[0m, \u001b[1;36m28000\u001b[0m, \u001b[1;36m8000\u001b[0m\u001b[1m]\u001b[0m,\n",
       "    \u001b[1m[\u001b[0m\u001b[32m'P'\u001b[0m, \u001b[1;36m63\u001b[0m, \u001b[1;36m100\u001b[0m, \u001b[1;36m200\u001b[0m\u001b[1m]\u001b[0m,\n",
       "    \u001b[1m[\u001b[0m\u001b[1;36m150\u001b[0m, \u001b[1;36m0\u001b[0m, \u001b[1;36m0\u001b[0m\u001b[1m]\u001b[0m,\n",
       "    \u001b[1m[\u001b[0m\u001b[1;36m350\u001b[0m, \u001b[1;36m0\u001b[0m, \u001b[1;36m0\u001b[0m\u001b[1m]\u001b[0m,\n",
       "    \u001b[1m[\u001b[0m\u001b[1m]\u001b[0m,\n",
       "    \u001b[1m[\u001b[0m\u001b[32m'ConcBeam1'\u001b[0m\u001b[1m]\u001b[0m,\n",
       "    \u001b[1m[\u001b[0m\u001b[1;36m9000\u001b[0m, \u001b[1;36m35000\u001b[0m, \u001b[1;36m1000000000\u001b[0m\u001b[1m]\u001b[0m,\n",
       "    \u001b[1m[\u001b[0m\u001b[32m'F'\u001b[0m, \u001b[1;36m1000\u001b[0m\u001b[1m]\u001b[0m,\n",
       "    \u001b[1m[\u001b[0m\u001b[32m'P'\u001b[0m, \u001b[1;36m9000\u001b[0m\u001b[1m]\u001b[0m,\n",
       "    \u001b[1m[\u001b[0m\u001b[1;36m12\u001b[0m, \u001b[1;36m0\u001b[0m, \u001b[1;36m0\u001b[0m\u001b[1m]\u001b[0m,\n",
       "    \u001b[1m[\u001b[0m\u001b[1;36m24\u001b[0m, \u001b[1;36m0\u001b[0m, \u001b[1;36m0\u001b[0m\u001b[1m]\u001b[0m\n",
       "\u001b[1m]\u001b[0m\n"
      ]
     },
     "metadata": {},
     "output_type": "display_data"
    }
   ],
   "source": [
    "print (beam_acc_int)"
   ]
  },
  {
   "cell_type": "code",
   "execution_count": 11,
   "id": "79978de5-ed3e-42ac-b8b7-191eb80e499e",
   "metadata": {},
   "outputs": [],
   "source": [
    "def separate_beam_data(beam_information: list[list[str, int]]) -> dict[str, list[list[str, int]]]:\n",
    "\n",
    "    beams = []\n",
    "    current_beam = 0\n",
    "    for idx, line in enumerate(beam_information):\n",
    "        if idx == 0:\n",
    "            beams.append([])\n",
    "            beams[current_beam].append(line)\n",
    "        elif not line:\n",
    "            beams.append([])\n",
    "            current_beam += 1\n",
    "        else:\n",
    "            beams[current_beam].append(line)\n",
    "    \n",
    "    #print(beams)\n",
    "    \n",
    "    beam_dict = {}\n",
    "    for idx, line in enumerate(beams):\n",
    "        beam_dict [beams[idx][0][0]] = beams[idx][1:]\n",
    "    \n",
    "    return(beam_dict)\n"
   ]
  },
  {
   "cell_type": "markdown",
   "id": "1bdb5887-7854-4491-b32b-f0d5b3ebc246",
   "metadata": {},
   "source": [
    "## Task C tests"
   ]
  },
  {
   "cell_type": "code",
   "execution_count": 12,
   "id": "52ed550e-66da-4921-9d24-73335b216531",
   "metadata": {},
   "outputs": [
    {
     "data": {
      "text/plain": [
       "{'RB1': [[4800, 19200, 1000000], ['P', 3600], ['F', 0], [100, 2000, 0]],\n",
       " 'FB45': [[228, 28000, 8000], ['P', 63, 100, 200], [150, 0, 0], [350, 0, 0]],\n",
       " 'ConcBeam1': [[9000, 35000, 1000000000],\n",
       "  ['F', 1000],\n",
       "  ['P', 9000],\n",
       "  [12, 0, 0],\n",
       "  [24, 0, 0]]}"
      ]
     },
     "execution_count": 12,
     "metadata": {},
     "output_type": "execute_result"
    }
   ],
   "source": [
    "beam_acc_int = convert_to_int(beam_acc)\n",
    "separate_beam_data(beam_acc_int)"
   ]
  },
  {
   "cell_type": "code",
   "execution_count": null,
   "id": "de739d3a-81ea-4390-92ec-a5942598c9b2",
   "metadata": {},
   "outputs": [],
   "source": []
  },
  {
   "cell_type": "markdown",
   "id": "0e3f0d2f-10b3-447d-9600-ad99a6b7e7cc",
   "metadata": {
    "tags": []
   },
   "source": [
    "# Task D\n",
    "\n",
    "Now, this is where things are going to steer away from how they were done in **Workbook 04**. \n",
    "\n",
    "In Workbook 04, we had a big loop that added all of the data for one beam into a new `Beam` object for analysis. In **Workbook 05** we are going to break this whole loop up into three separate functions.\n",
    "\n",
    "First, you are going to design a function called `add_pin_support_to_beam`. It will take **three** parameters, as follows:\n",
    "1. A sympy `Beam` object\n",
    "2. An integer representing which support number it is (e.g. `0`, `1`, `2`, etc.)\n",
    "3. An integer representing a support location on the beam (e.g. `0` or `1800` or whatever)\n",
    "\n",
    "It will return a `tuple[Beam, Symbol]` which is a way of saying that it will return **two** values (which will automatically be bundled up in a `tuple` by Python).\n",
    "\n",
    "**Note:** For pin supports, be sure to name your reaction symbol something like `\"RP_0\"` or `\"RP_1\"` where `\"0\"` and `\"1\"` represent your support number."
   ]
  },
  {
   "cell_type": "markdown",
   "id": "0c200940-2afb-42e9-8466-239baebd6c42",
   "metadata": {
    "jp-MarkdownHeadingCollapsed": true,
    "tags": []
   },
   "source": [
    "> ### Why are we returning _two_ values?\n",
    "\n",
    "> If you look back to **Task 04/D**, when we created a pin support, we had to do a few things:\n",
    "> 1. Add our reaction `Symbol` (e.g. `RP_1` or whatever) to a list of reaction symbols\n",
    "> 2. Add our reactions as \"loads\" to the `Beam` object\n",
    "> 3. Add our boundary conditions at the support location (within the `Beam` object)\n",
    "\n",
    "> Items **2** and **3** are changes made to the `Beam` object and when we return the altered `Beam` object at the end of our function it will have the changed data within it. \n",
    "\n",
    "> When we _solve_ the beam object with `.solve_for_reaction_loads()` we have to pass all of our reaction symbols to the `.solve_for_reaction_loads()` method in order for them to be solved. This means, after our function runs, we need to have access to the reaction symbol that was created _within_ the function. Remember, using `return` is the way that we can transfer data from inside the function scope to outside the function scope. By returning the symbol created within the function along with the `Beam`, we can add the symbol to an accumulator in our \"master loop\"."
   ]
  },
  {
   "cell_type": "markdown",
   "id": "e3af1c77-bc3c-40e4-ae55-7090b63f6c36",
   "metadata": {},
   "source": [
    "# Task D response"
   ]
  },
  {
   "cell_type": "code",
   "execution_count": 13,
   "id": "27db9a05-3789-4f8e-8837-76034327b8b1",
   "metadata": {},
   "outputs": [],
   "source": [
    "def add_pin_support_to_beam(beam, support_ID: int, support_location: int) -> tuple[Beam, Symbol]:\n",
    "    \n",
    "    RP = symbols(f\"RP_{support_ID}\")\n",
    "    p_deflection = (support_location, 0)\n",
    "    beam.apply_load(RP, support_location, -1)\n",
    "    beam.bc_deflection.append(p_deflection)\n",
    "    \n",
    "    return (beam, RP)\n"
   ]
  },
  {
   "cell_type": "markdown",
   "id": "0fd74270-9113-45ee-a845-125a769f74be",
   "metadata": {},
   "source": [
    "# Task D test"
   ]
  },
  {
   "cell_type": "code",
   "execution_count": 14,
   "id": "d4b371ef-e4a8-462b-b6ab-2a81fec7a094",
   "metadata": {},
   "outputs": [
    {
     "data": {
      "text/html": [
       "<pre style=\"white-space:pre;overflow-x:auto;line-height:normal;font-family:Menlo,'DejaVu Sans Mono',consolas,'Courier New',monospace\"><span style=\"font-weight: bold\">[</span><span style=\"color: #008080; text-decoration-color: #008080; font-weight: bold\">4800</span>, <span style=\"color: #008080; text-decoration-color: #008080; font-weight: bold\">19200</span>, <span style=\"color: #008080; text-decoration-color: #008080; font-weight: bold\">1000000</span><span style=\"font-weight: bold\">]</span>\n",
       "</pre>\n"
      ],
      "text/plain": [
       "\u001b[1m[\u001b[0m\u001b[1;36m4800\u001b[0m, \u001b[1;36m19200\u001b[0m, \u001b[1;36m1000000\u001b[0m\u001b[1m]\u001b[0m\n"
      ]
     },
     "metadata": {},
     "output_type": "display_data"
    },
    {
     "data": {
      "text/html": [
       "<pre style=\"white-space:pre;overflow-x:auto;line-height:normal;font-family:Menlo,'DejaVu Sans Mono',consolas,'Courier New',monospace\"><span style=\"color: #800080; text-decoration-color: #800080; font-weight: bold\">Beam</span><span style=\"font-weight: bold\">(</span><span style=\"color: #008080; text-decoration-color: #008080; font-weight: bold\">4800</span>, <span style=\"color: #008080; text-decoration-color: #008080; font-weight: bold\">19200</span>, <span style=\"color: #008080; text-decoration-color: #008080; font-weight: bold\">1000000</span><span style=\"font-weight: bold\">)</span>\n",
       "</pre>\n"
      ],
      "text/plain": [
       "\u001b[1;35mBeam\u001b[0m\u001b[1m(\u001b[0m\u001b[1;36m4800\u001b[0m, \u001b[1;36m19200\u001b[0m, \u001b[1;36m1000000\u001b[0m\u001b[1m)\u001b[0m\n"
      ]
     },
     "metadata": {},
     "output_type": "display_data"
    },
    {
     "data": {
      "text/html": [
       "<pre style=\"white-space:pre;overflow-x:auto;line-height:normal;font-family:Menlo,'DejaVu Sans Mono',consolas,'Courier New',monospace\"><span style=\"font-weight: bold\">(&lt;</span><span style=\"color: #ff00ff; text-decoration-color: #ff00ff; font-weight: bold\">sympy.physics.continuum_mechanics.beam.Beam</span><span style=\"color: #000000; text-decoration-color: #000000\"> object at </span><span style=\"color: #008080; text-decoration-color: #008080; font-weight: bold\">0x000001A4FBFEC7F0</span><span style=\"font-weight: bold\">&gt;</span>, RP_0<span style=\"font-weight: bold\">)</span>\n",
       "</pre>\n"
      ],
      "text/plain": [
       "\u001b[1m(\u001b[0m\u001b[1m<\u001b[0m\u001b[1;95msympy.physics.continuum_mechanics.beam.Beam\u001b[0m\u001b[39m object at \u001b[0m\u001b[1;36m0x000001A4FBFEC7F0\u001b[0m\u001b[1m>\u001b[0m, RP_0\u001b[1m)\u001b[0m\n"
      ]
     },
     "metadata": {},
     "output_type": "display_data"
    }
   ],
   "source": [
    "def test_add_pin_suppot_to_beam():\n",
    "    \n",
    "    beams_dict = (separate_beam_data(beam_acc_int))\n",
    "    LEI_test = beams_dict['RB1'][0]\n",
    "    print(LEI_test)\n",
    "    my_beam_test = Beam(*LEI_test)\n",
    "    \n",
    "    print(my_beam_test)\n",
    "    print(add_pin_support_to_beam(my_beam_test, 0, 3600))\n",
    "    \n",
    "test_add_pin_suppot_to_beam()\n",
    "    "
   ]
  },
  {
   "cell_type": "markdown",
   "id": "32e5a7f8-91b7-424c-910a-18582d8b914d",
   "metadata": {},
   "source": [
    "# Task E\n",
    "\n",
    "This the second of the three \"break out\" functions.\n",
    "\n",
    "Similar to **Task D**, you are now going to design a function called `add_fix_support_to_beam`. It will take **three** parameters, as follows:\n",
    "\n",
    "1. A sympy `Beam` object\n",
    "2. An integer representing which support number it is (e.g. `0`, `1`, `2`, etc.)\n",
    "3. An integer representing a support location on the beam (e.g. `0` or `1800` or whatever)\n",
    "\n",
    "It will return a `tuple[Beam, Symbol, Symbol]` which is a way of saying that it will return **three** values: the `Beam` object, the deflection reaction, and the slope reaction.\n",
    "\n",
    "**Note:** For fix supports, be sure to name your reaction symbols something like `\"RD_0\"` and `\"RD_1\"` (for deflection unknowns) and `\"RS_0\"` and `\"RS_1\"` (for slope unknowns), where `\"0\"` and `\"1\"`, etc. just represent the support number."
   ]
  },
  {
   "cell_type": "markdown",
   "id": "57daf586-6858-4c68-a3a5-02edfc7c1330",
   "metadata": {},
   "source": [
    "## Task E response"
   ]
  },
  {
   "cell_type": "code",
   "execution_count": 15,
   "id": "1603a802-f411-4568-9c1f-f109b92d605b",
   "metadata": {},
   "outputs": [],
   "source": [
    "def add_fix_support_to_beam(beam, support_ID: int, support_location: int) -> tuple[Beam, Symbol, Symbol]:\n",
    "    \n",
    "    RFD = symbols(f\"RD_{support_ID}\")\n",
    "    RFS = symbols(f\"RS_{support_ID}\")\n",
    "    f_deflection = (support_location, 0)\n",
    "    beam.apply_load(RFD, support_location, -1)\n",
    "    beam.apply_load(RFS, support_location, -2)\n",
    "    beam.bc_deflection.append(f_deflection)\n",
    "    beam.bc_slope.append(f_deflection)\n",
    "    \n",
    "    return (beam, RFD, RFS)"
   ]
  },
  {
   "cell_type": "markdown",
   "id": "d9ecb8c6-961a-456b-ab5c-78978ecf59d7",
   "metadata": {},
   "source": [
    "## Task E tests\n",
    "\n"
   ]
  },
  {
   "cell_type": "code",
   "execution_count": 16,
   "id": "bba030b0-104e-4e1f-8fc3-74ee4f379922",
   "metadata": {},
   "outputs": [
    {
     "data": {
      "text/html": [
       "<pre style=\"white-space:pre;overflow-x:auto;line-height:normal;font-family:Menlo,'DejaVu Sans Mono',consolas,'Courier New',monospace\"><span style=\"color: #800080; text-decoration-color: #800080; font-weight: bold\">Beam</span><span style=\"font-weight: bold\">(</span><span style=\"color: #008080; text-decoration-color: #008080; font-weight: bold\">4800</span>, <span style=\"color: #008080; text-decoration-color: #008080; font-weight: bold\">19200</span>, <span style=\"color: #008080; text-decoration-color: #008080; font-weight: bold\">1000000</span><span style=\"font-weight: bold\">)</span>\n",
       "</pre>\n"
      ],
      "text/plain": [
       "\u001b[1;35mBeam\u001b[0m\u001b[1m(\u001b[0m\u001b[1;36m4800\u001b[0m, \u001b[1;36m19200\u001b[0m, \u001b[1;36m1000000\u001b[0m\u001b[1m)\u001b[0m\n"
      ]
     },
     "metadata": {},
     "output_type": "display_data"
    },
    {
     "data": {
      "text/html": [
       "<pre style=\"white-space:pre;overflow-x:auto;line-height:normal;font-family:Menlo,'DejaVu Sans Mono',consolas,'Courier New',monospace\"><span style=\"font-weight: bold\">(&lt;</span><span style=\"color: #ff00ff; text-decoration-color: #ff00ff; font-weight: bold\">sympy.physics.continuum_mechanics.beam.Beam</span><span style=\"color: #000000; text-decoration-color: #000000\"> object at </span><span style=\"color: #008080; text-decoration-color: #008080; font-weight: bold\">0x000001A4FEFEB340</span><span style=\"font-weight: bold\">&gt;</span>, RD_0, RS_0<span style=\"font-weight: bold\">)</span>\n",
       "</pre>\n"
      ],
      "text/plain": [
       "\u001b[1m(\u001b[0m\u001b[1m<\u001b[0m\u001b[1;95msympy.physics.continuum_mechanics.beam.Beam\u001b[0m\u001b[39m object at \u001b[0m\u001b[1;36m0x000001A4FEFEB340\u001b[0m\u001b[1m>\u001b[0m, RD_0, RS_0\u001b[1m)\u001b[0m\n"
      ]
     },
     "metadata": {},
     "output_type": "display_data"
    }
   ],
   "source": [
    "def test_add_fix_suppot_to_beam():\n",
    "    beams_dict = (separate_beam_data(beam_acc_int))\n",
    "    LEI_test = beams_dict['RB1'][0]\n",
    "    my_beam_test = Beam(*LEI_test)\n",
    "    \n",
    "    print(my_beam_test)\n",
    "    print(add_fix_support_to_beam(my_beam_test, 0, 0))\n",
    "    \n",
    "\n",
    "test_add_fix_suppot_to_beam()\n",
    "    "
   ]
  },
  {
   "cell_type": "markdown",
   "id": "fc32fabd-dc8f-4895-a6d9-e254bfa6d045",
   "metadata": {},
   "source": [
    "# Task F\n",
    "\n",
    "This is the third of the three \"break out\" functions.\n",
    "\n",
    "Design a function called `solve_beam`. It takes one parameter: a `list[list[str]]` which represents all of the data for one beam from the file data. The function returns a `Beam` object with all of the data loaded into it and after `.solve_for_reaction_loads()` has been called on the beam.\n",
    "\n",
    "To accomplish this, you will be calling the functions you created in **Task D** and **Task E** _within_ this final function. Think of them as your \"helper\" functions.\n",
    "\n",
    "Feel free to also refer to your **Task 04/D** response for guidance.\n",
    "\n",
    "**Tests** \n",
    "\n",
    "Because we are working with `sympy` objects, doing a proper test on the solved beam is a bit fussier. So I will give you a test to run that checks to see if the reaction load from a UDL comes out as expected and the moment from a cantilevered beam comes out as expected.\n",
    "\n",
    "Copy-paste the below code into the **...test** cell\n",
    "\n",
    "\n",
    "```python\n",
    "import pytest\n",
    "\n",
    "def test_solve_beam():\n",
    "    test_beams = {\n",
    "        'bm1': [\n",
    "        [4000, 200e9, 450000000],\n",
    "        ['P', 0, 4000],\n",
    "        [100, 0, 0]\n",
    "        ],\n",
    "        'bm2': [\n",
    "        [4000, 200e9, 450000000],\n",
    "        ['F', 0],\n",
    "        [100, 0, 0],\n",
    "        ]     \n",
    "    }\n",
    "    bm1 = solve_beam(test_beams['bm1'])\n",
    "    reactions = bm1.reaction_loads\n",
    "    reaction_symbols = [symbol for symbol in reactions.keys()]\n",
    "    pytest.approx(\n",
    "        float(reactions[reaction_symbols[0]]), 4000*100/2\n",
    "    )\n",
    "    bm2 = solve_beam(test_beams['bm2'])\n",
    "    reactions = bm2.reaction_loads\n",
    "    reaction_symbols = [symbol for symbol in reactions.keys()]\n",
    "    pytest.approx(\n",
    "        float(reactions[reaction_symbols[1]]), 4000*100**2/2\n",
    "    )\n",
    "    \n",
    "ipytest.run()\n",
    "```\n",
    "    \n"
   ]
  },
  {
   "cell_type": "markdown",
   "id": "3b0de15b-2579-45b7-8300-1a3b21dcb884",
   "metadata": {},
   "source": [
    "## Task F response"
   ]
  },
  {
   "cell_type": "code",
   "execution_count": 24,
   "id": "a8ec8827-fa79-42c3-9342-ccccccbaea36",
   "metadata": {},
   "outputs": [],
   "source": [
    "def solve_beam (beam_data: list[list[str]]) -> Beam:\n",
    "\n",
    "    \"\"\"\n",
    "    Returns a Beam object with all of the data loaded into it and after\n",
    "    .solve_for_reaction_loads() has been called on the beam.\n",
    "    \"\"\"\n",
    "    \n",
    "    loads = []\n",
    "    reactions = []\n",
    "    f_reactions = []\n",
    "    \n",
    "    for idx, line in enumerate (beam_data):\n",
    "        if idx == 0:\n",
    "            LEI = line\n",
    "            my_beam = Beam(*LEI)\n",
    "            \n",
    "        elif 'P' in line:\n",
    "            for p_idx, item in enumerate (line[1:]):\n",
    "                reactions.append(add_pin_support_to_beam(my_beam, p_idx, line[p_idx+1])[1])\n",
    "                \n",
    "        elif 'F' in line:\n",
    "            for f_idx, item in enumerate (line[1:]):\n",
    "                f_reactions.append(add_fix_support_to_beam(my_beam, f_idx, line[f_idx+1])[1:])\n",
    "        \n",
    "        else:\n",
    "            loads.append(line)\n",
    "            \n",
    "    for fix_line in f_reactions:\n",
    "        for item in fix_line:\n",
    "            reactions.append(item)\n",
    "            \n",
    "    for loads_line in loads:\n",
    "        mso = line\n",
    "        my_beam.apply_load(*mso)\n",
    "    \n",
    "    print (my_beam)\n",
    "    print (reactions)\n",
    "    print (f_reactions)\n",
    "    print (loads)\n",
    "    \n",
    "    my_beam.solve_for_reaction_loads(*reactions)\n",
    "    print(my_beam.reaction_loads)\n",
    "    \n",
    "    my_beam_plot = my_beam.draw()\n",
    "    my_beam_plot.show()\n",
    "    \n",
    "    return (my_beam)\n",
    "            "
   ]
  },
  {
   "cell_type": "code",
   "execution_count": 26,
   "id": "4d61f3fb-c384-4429-84aa-1931cb9799bc",
   "metadata": {},
   "outputs": [
    {
     "data": {
      "text/html": [
       "<pre style=\"white-space:pre;overflow-x:auto;line-height:normal;font-family:Menlo,'DejaVu Sans Mono',consolas,'Courier New',monospace\"><span style=\"color: #800080; text-decoration-color: #800080; font-weight: bold\">Beam</span><span style=\"font-weight: bold\">(</span><span style=\"color: #008080; text-decoration-color: #008080; font-weight: bold\">4800</span>, <span style=\"color: #008080; text-decoration-color: #008080; font-weight: bold\">19200</span>, <span style=\"color: #008080; text-decoration-color: #008080; font-weight: bold\">1000000</span><span style=\"font-weight: bold\">)</span>\n",
       "</pre>\n"
      ],
      "text/plain": [
       "\u001b[1;35mBeam\u001b[0m\u001b[1m(\u001b[0m\u001b[1;36m4800\u001b[0m, \u001b[1;36m19200\u001b[0m, \u001b[1;36m1000000\u001b[0m\u001b[1m)\u001b[0m\n"
      ]
     },
     "metadata": {},
     "output_type": "display_data"
    },
    {
     "data": {
      "text/html": [
       "<pre style=\"white-space:pre;overflow-x:auto;line-height:normal;font-family:Menlo,'DejaVu Sans Mono',consolas,'Courier New',monospace\"><span style=\"font-weight: bold\">[</span>RP_0, RP_1, RD_0, RS_0<span style=\"font-weight: bold\">]</span>\n",
       "</pre>\n"
      ],
      "text/plain": [
       "\u001b[1m[\u001b[0mRP_0, RP_1, RD_0, RS_0\u001b[1m]\u001b[0m\n"
      ]
     },
     "metadata": {},
     "output_type": "display_data"
    },
    {
     "data": {
      "text/html": [
       "<pre style=\"white-space:pre;overflow-x:auto;line-height:normal;font-family:Menlo,'DejaVu Sans Mono',consolas,'Courier New',monospace\"><span style=\"font-weight: bold\">[(</span>RD_0, RS_0<span style=\"font-weight: bold\">)]</span>\n",
       "</pre>\n"
      ],
      "text/plain": [
       "\u001b[1m[\u001b[0m\u001b[1m(\u001b[0mRD_0, RS_0\u001b[1m)\u001b[0m\u001b[1m]\u001b[0m\n"
      ]
     },
     "metadata": {},
     "output_type": "display_data"
    },
    {
     "data": {
      "text/html": [
       "<pre style=\"white-space:pre;overflow-x:auto;line-height:normal;font-family:Menlo,'DejaVu Sans Mono',consolas,'Courier New',monospace\"><span style=\"font-weight: bold\">[[</span><span style=\"color: #008080; text-decoration-color: #008080; font-weight: bold\">100</span>, <span style=\"color: #008080; text-decoration-color: #008080; font-weight: bold\">2000</span>, <span style=\"color: #008080; text-decoration-color: #008080; font-weight: bold\">0</span><span style=\"font-weight: bold\">]]</span>\n",
       "</pre>\n"
      ],
      "text/plain": [
       "\u001b[1m[\u001b[0m\u001b[1m[\u001b[0m\u001b[1;36m100\u001b[0m, \u001b[1;36m2000\u001b[0m, \u001b[1;36m0\u001b[0m\u001b[1m]\u001b[0m\u001b[1m]\u001b[0m\n"
      ]
     },
     "metadata": {},
     "output_type": "display_data"
    },
    {
     "data": {
      "text/html": [
       "<pre style=\"white-space:pre;overflow-x:auto;line-height:normal;font-family:Menlo,'DejaVu Sans Mono',consolas,'Courier New',monospace\"><span style=\"font-weight: bold\">{</span>RP_0: <span style=\"color: #008080; text-decoration-color: #008080; font-weight: bold\">-1797500</span>/<span style=\"color: #008080; text-decoration-color: #008080; font-weight: bold\">7</span>, RP_1: <span style=\"color: #008080; text-decoration-color: #008080; font-weight: bold\">-642500</span>/<span style=\"color: #008080; text-decoration-color: #008080; font-weight: bold\">7</span>, RD_0: <span style=\"color: #008080; text-decoration-color: #008080; font-weight: bold\">480000</span>/<span style=\"color: #008080; text-decoration-color: #008080; font-weight: bold\">7</span>, RS_0: <span style=\"color: #008080; text-decoration-color: #008080; font-weight: bold\">-64000000</span>/<span style=\"color: #008080; text-decoration-color: #008080; font-weight: bold\">7</span><span style=\"font-weight: bold\">}</span>\n",
       "</pre>\n"
      ],
      "text/plain": [
       "\u001b[1m{\u001b[0mRP_0: \u001b[1;36m-1797500\u001b[0m/\u001b[1;36m7\u001b[0m, RP_1: \u001b[1;36m-642500\u001b[0m/\u001b[1;36m7\u001b[0m, RD_0: \u001b[1;36m480000\u001b[0m/\u001b[1;36m7\u001b[0m, RS_0: \u001b[1;36m-64000000\u001b[0m/\u001b[1;36m7\u001b[0m\u001b[1m}\u001b[0m\n"
      ]
     },
     "metadata": {},
     "output_type": "display_data"
    },
    {
     "data": {
      "image/png": "[encoded data removed]",
      "text/plain": [
       "<Figure size 640x480 with 1 Axes>"
      ]
     },
     "metadata": {},
     "output_type": "display_data"
    },
    {
     "data": {
      "text/plain": [
       "<sympy.physics.continuum_mechanics.beam.Beam at 0x1a4947d7eb0>"
      ]
     },
     "execution_count": 26,
     "metadata": {},
     "output_type": "execute_result"
    }
   ],
   "source": [
    "solve_beam(\n",
    "    \n",
    "    [[4800, 19200, 1000000],\n",
    "    ['P', 3600, 400],\n",
    "    ['F', 0],\n",
    "    [100, 2000, 0]]\n",
    "    \n",
    ")"
   ]
  },
  {
   "cell_type": "markdown",
   "id": "a246a842-f815-4ebb-9ef7-b5fc8f3eb07d",
   "metadata": {},
   "source": [
    "## Task F test"
   ]
  },
  {
   "cell_type": "code",
   "execution_count": null,
   "id": "174cc3eb-1940-4d6f-83b3-cfc401e4f82d",
   "metadata": {},
   "outputs": [],
   "source": [
    "import pytest\n",
    "\n",
    "def test_solve_beam():\n",
    "    test_beams = {\n",
    "        'bm1': [\n",
    "        [4000, 200e9, 450000000],\n",
    "        ['P', 0, 4000],\n",
    "        [100, 0, 0]\n",
    "        ],\n",
    "        'bm2': [\n",
    "        [4000, 200e9, 450000000],\n",
    "        ['F', 0],\n",
    "        [100, 0, 0],\n",
    "        ]     \n",
    "    }\n",
    "    bm1 = solve_beam(test_beams['bm1'])\n",
    "    reactions = bm1.reaction_loads\n",
    "    reaction_symbols = [symbol for symbol in reactions.keys()]\n",
    "    pytest.approx(\n",
    "        float(reactions[reaction_symbols[0]]), 4000*100/2\n",
    "    )\n",
    "    bm2 = solve_beam(test_beams['bm2'])\n",
    "    reactions = bm2.reaction_loads\n",
    "    reaction_symbols = [symbol for symbol in reactions.keys()]\n",
    "    pytest.approx(\n",
    "        float(reactions[reaction_symbols[1]]), 4000*100**2/2\n",
    "    )\n",
    "    \n",
    "ipytest.run()\n"
   ]
  },
  {
   "cell_type": "markdown",
   "id": "7310d5ea-5a27-4022-bf79-3b0810f5982a",
   "metadata": {},
   "source": [
    "# Task G\n",
    "\n",
    "Try using your functions!\n",
    "\n",
    "In the cell below, try this:\n",
    "\n",
    "```python\n",
    "filename = \"beams.txt\"\n",
    "beams_data = separate_beams_data(convert_to_int(read_beams_file(filename)))\n",
    "print([key for key in beams_data.keys()])\n",
    "beam = solve_beam(beams_data['RB1'])\n",
    "beam.plot_shear_force()\n",
    "beam.plot_bending_moment()\n",
    "beam.plot_deflection()\n",
    "```\n",
    "\n",
    "1. Try putting in the different beam names to see the different diagrams\n",
    "2. The above code is still a bit script-y. You could probably write some more functions to make things easier to use. For example, using your existing functions, it would probably be easy to write a short function that prints all of the beam names from the beam file. Do you see how you could do it? You don't need to write it for this assignment (just think about it and imagine what you would do) but if you want extra practice, feel free!\n",
    "3. Maybe it would be easy to write a function to plot all three diagrams given a solved beam as an input parameter? You don't need to write it for this assignment (just think about it and imagine what you would do) but if you want extra practice, feel free!\n",
    "4. Maybe you could write one function that reads all of the beams in a beams file and prints all of the results in one go. To do all this, you would only need one input parameter: the filename! Talk about automation, yeah?\n",
    "5. You have written a lot of Python code, friend! Lets see what it looks like. Copy and paste all of your functions (but not your test functions), sequentially (A -> B -> C..., etc.) into the cell below. Stand back and just look at them all. This is what writing a program looks like :)\n"
   ]
  },
  {
   "cell_type": "code",
   "execution_count": null,
   "id": "aefa5bd4-3d8b-4bf5-b1c8-4e616e1d3c8c",
   "metadata": {},
   "outputs": [],
   "source": [
    "filename = \"beams.txt\"\n",
    "beams_data = separate_beam_data(convert_to_int(read_beams_file(filename)))\n",
    "print([key for key in beams_data.keys()])\n",
    "beam = solve_beam(beams_data['RB1'])\n",
    "beam.plot_shear_force()\n",
    "beam.plot_bending_moment()\n",
    "beam.plot_deflection()"
   ]
  },
  {
   "cell_type": "markdown",
   "id": "c4a80c5f-0ec2-4989-9a6d-b041317f8f71",
   "metadata": {},
   "source": [
    "## Task G response: Paste your functions down below"
   ]
  },
  {
   "cell_type": "code",
   "execution_count": null,
   "id": "22c7a209-699d-4b74-ab61-ffd36957bc1b",
   "metadata": {},
   "outputs": [],
   "source": []
  },
  {
   "cell_type": "markdown",
   "id": "6fca26fc-b77e-45c5-a651-c934b2eca8b3",
   "metadata": {},
   "source": [
    "# 🎷 Submit Workbook 05\n",
    "\n",
    "This was a big assignment. Hopefully it went a little faster because you were able to copy-paste and generally re-use code you have written before.\n",
    "\n",
    "The process of writing functions and \"helper\" functions is part of what's called \"functional program design\". You write functions that perform all of the individual small tasks you need to do. From there, you combine them to perform the larger tasks. Eventually, you may end up with a program that just calls one or two functions to do all of the work by calling all of your smaller functions. \n",
    "\n",
    "This is one very good way of designing programs. Done properly (using one-task-per-function and writing tests for each function) you can build powerful and robust programs very quickly.\n",
    "\n",
    "For now, just commit and push your workbook to your GitHub repo."
   ]
  },
  {
   "cell_type": "code",
   "execution_count": null,
   "id": "3ce905c1-ea6c-442d-97f5-f76648d07f9b",
   "metadata": {},
   "outputs": [],
   "source": []
  }
 ],
 "metadata": {
  "kernelspec": {
   "display_name": "Python 3 (ipykernel)",
   "language": "python",
   "name": "python3"
  },
  "language_info": {
   "codemirror_mode": {
    "name": "ipython",
    "version": 3
   },
   "file_extension": ".py",
   "mimetype": "text/x-python",
   "name": "python",
   "nbconvert_exporter": "python",
   "pygments_lexer": "ipython3",
   "version": "3.9.12"
  }
 },
 "nbformat": 4,
 "nbformat_minor": 5
}
